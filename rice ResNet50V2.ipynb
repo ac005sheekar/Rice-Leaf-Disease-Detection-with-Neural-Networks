{
  "nbformat": 4,
  "nbformat_minor": 0,
  "metadata": {
    "colab": {
      "name": "rice.ipynb",
      "provenance": []
    },
    "kernelspec": {
      "name": "python3",
      "display_name": "Python 3"
    },
    "language_info": {
      "name": "python"
    },
    "accelerator": "GPU"
  },
  "cells": [
    {
      "cell_type": "code",
      "metadata": {
        "id": "zTQx7HTNT8sS"
      },
      "source": [
        "import numpy as np\n",
        "import pandas as pd\n",
        "import os\n",
        "import matplotlib.pyplot as plt\n",
        "import tensorflow as tf\n",
        "\n",
        "from tensorflow.keras.utils import to_categorical\n",
        "from tensorflow.keras.preprocessing.image import load_img, img_to_array\n",
        "from tensorflow.python.keras.preprocessing.image import ImageDataGenerator\n",
        "\n",
        "from sklearn.metrics import classification_report, log_loss, accuracy_score\n",
        "from sklearn.model_selection import train_test_split\n",
        "import tensorflow.keras.applications.resnet"
      ],
      "execution_count": 78,
      "outputs": []
    },
    {
      "cell_type": "code",
      "metadata": {
        "id": "gevtjrwdbd_g"
      },
      "source": [
        "directory = '/content/drive/MyDrive/Rice disease archive'"
      ],
      "execution_count": 79,
      "outputs": []
    },
    {
      "cell_type": "code",
      "metadata": {
        "colab": {
          "base_uri": "https://localhost:8080/"
        },
        "id": "1--U71Gbb2iR",
        "outputId": "c87d3d9c-c8fc-48be-c7f4-afb3f44088c7"
      },
      "source": [
        "Name=[]\n",
        "for file in os.listdir(directory):\n",
        "    Name+=[file]\n",
        "print(Name)\n",
        "print(len(Name))"
      ],
      "execution_count": 80,
      "outputs": [
        {
          "output_type": "stream",
          "name": "stdout",
          "text": [
            "['blast', 'tungro', 'blight']\n",
            "3\n"
          ]
        }
      ]
    },
    {
      "cell_type": "code",
      "metadata": {
        "id": "F8XwAMvpcO6I"
      },
      "source": [
        "N=[]\n",
        "for i in range(len(Name)):\n",
        "    N+=[i]\n",
        "    \n",
        "normal_mapping=dict(zip(Name,N)) \n",
        "reverse_mapping=dict(zip(N,Name)) \n",
        "\n",
        "def mapper(value):\n",
        "    return reverse_mapping[value]"
      ],
      "execution_count": 81,
      "outputs": []
    },
    {
      "cell_type": "code",
      "metadata": {
        "id": "eyPlDXJ5cSMq"
      },
      "source": [
        "dataset=[]\n",
        "testset=[]\n",
        "count=0\n",
        "for name in Name:\n",
        "    path=os.path.join(directory,name)\n",
        "    t=0\n",
        "    for im in os.listdir(path):\n",
        "        if im[-4:]=='.jpg':\n",
        "            image=load_img(os.path.join(path,im), grayscale=False, color_mode='rgb', target_size=(100,100))\n",
        "            image=img_to_array(image)\n",
        "            image=image/255.0\n",
        "            if t<60:\n",
        "                dataset.append([image,count])\n",
        "            else:   \n",
        "                testset.append([image,count])\n",
        "            t+=1\n",
        "    count=count+1"
      ],
      "execution_count": 82,
      "outputs": []
    },
    {
      "cell_type": "code",
      "metadata": {
        "id": "Llo9capTcVti"
      },
      "source": [
        "data,labels0=zip(*dataset)\n",
        "test,tlabels0=zip(*testset)"
      ],
      "execution_count": 83,
      "outputs": []
    },
    {
      "cell_type": "code",
      "metadata": {
        "id": "PxDDBrHhciUF"
      },
      "source": [
        "labels1=to_categorical(labels0)\n",
        "data=np.array(data)\n",
        "labels=np.array(labels1)"
      ],
      "execution_count": 84,
      "outputs": []
    },
    {
      "cell_type": "code",
      "metadata": {
        "id": "QsHLqCZ-cnYm"
      },
      "source": [
        "tlabels1=to_categorical(tlabels0)\n",
        "test=np.array(test)\n",
        "tlabels=np.array(tlabels1)"
      ],
      "execution_count": 85,
      "outputs": []
    },
    {
      "cell_type": "code",
      "metadata": {
        "colab": {
          "base_uri": "https://localhost:8080/"
        },
        "id": "GwCLIdpRcp6N",
        "outputId": "ea32af26-9967-4607-f4f2-176c731ecfe1"
      },
      "source": [
        "print(len(labels))\n",
        "print(len(tlabels))"
      ],
      "execution_count": 86,
      "outputs": [
        {
          "output_type": "stream",
          "name": "stdout",
          "text": [
            "180\n",
            "60\n"
          ]
        }
      ]
    },
    {
      "cell_type": "code",
      "metadata": {
        "id": "HYX95i06csAA"
      },
      "source": [
        "trainx,testx,trainy,testy=train_test_split(data,labels,test_size=0.2,random_state=44)"
      ],
      "execution_count": 87,
      "outputs": []
    },
    {
      "cell_type": "code",
      "metadata": {
        "colab": {
          "base_uri": "https://localhost:8080/"
        },
        "id": "9J77vA3Qcuzz",
        "outputId": "ba93514d-8fd4-4ba7-d4a3-8506220a2512"
      },
      "source": [
        "print(trainx.shape)\n",
        "print(testx.shape)\n",
        "print(trainy.shape)\n",
        "print(testy.shape)"
      ],
      "execution_count": 88,
      "outputs": [
        {
          "output_type": "stream",
          "name": "stdout",
          "text": [
            "(144, 100, 100, 3)\n",
            "(36, 100, 100, 3)\n",
            "(144, 3)\n",
            "(36, 3)\n"
          ]
        }
      ]
    },
    {
      "cell_type": "code",
      "metadata": {
        "id": "pDMYSzaocxau"
      },
      "source": [
        "datagen = ImageDataGenerator(horizontal_flip=True,vertical_flip=True,rotation_range=20,zoom_range=0.2,\n",
        "                        width_shift_range=0.2,height_shift_range=0.2,shear_range=0.1,fill_mode=\"nearest\")"
      ],
      "execution_count": 89,
      "outputs": []
    },
    {
      "cell_type": "code",
      "metadata": {
        "colab": {
          "base_uri": "https://localhost:8080/"
        },
        "id": "cVU6qg8kc4p_",
        "outputId": "e7816901-c71e-4a0c-9b0b-7fa68d2a8350"
      },
      "source": [
        "pretrained_model3 = tf.keras.applications.ResNet50V2(input_shape=(100,100,3),include_top=False,weights='imagenet',pooling='avg')\n",
        "pretrained_model3.trainable = False"
      ],
      "execution_count": 90,
      "outputs": [
        {
          "output_type": "stream",
          "name": "stdout",
          "text": [
            "Downloading data from https://storage.googleapis.com/tensorflow/keras-applications/resnet/resnet50v2_weights_tf_dim_ordering_tf_kernels_notop.h5\n",
            "94674944/94668760 [==============================] - 1s 0us/step\n",
            "94683136/94668760 [==============================] - 1s 0us/step\n"
          ]
        }
      ]
    },
    {
      "cell_type": "code",
      "metadata": {
        "id": "M6b8HMDjdEHP"
      },
      "source": [
        "inputs3 = pretrained_model3.input\n",
        "x3 = tf.keras.layers.Dense(128, activation='relu')(pretrained_model3.output)\n",
        "outputs3 = tf.keras.layers.Dense(3, activation='softmax')(x3)\n",
        "model = tf.keras.Model(inputs=inputs3, outputs=outputs3)"
      ],
      "execution_count": 91,
      "outputs": []
    },
    {
      "cell_type": "code",
      "metadata": {
        "id": "bwgEEf9FdQKL"
      },
      "source": [
        "model.compile(optimizer='adam',loss='categorical_crossentropy',metrics=['accuracy'])"
      ],
      "execution_count": 92,
      "outputs": []
    },
    {
      "cell_type": "code",
      "metadata": {
        "colab": {
          "base_uri": "https://localhost:8080/"
        },
        "id": "EO-mAYsHdSs5",
        "outputId": "008e382a-661e-40b4-fa57-8555b2738c83"
      },
      "source": [
        "his=model.fit(datagen.flow(trainx,trainy,batch_size=32),validation_data=(testx,testy),epochs=40)"
      ],
      "execution_count": 93,
      "outputs": [
        {
          "output_type": "stream",
          "name": "stdout",
          "text": [
            "Epoch 1/40\n",
            "5/5 [==============================] - 5s 402ms/step - loss: 1.4206 - accuracy: 0.4514 - val_loss: 1.2503 - val_accuracy: 0.4722\n",
            "Epoch 2/40\n",
            "5/5 [==============================] - 1s 149ms/step - loss: 0.8420 - accuracy: 0.6389 - val_loss: 1.3372 - val_accuracy: 0.3333\n",
            "Epoch 3/40\n",
            "5/5 [==============================] - 1s 140ms/step - loss: 0.8039 - accuracy: 0.6111 - val_loss: 1.3496 - val_accuracy: 0.4722\n",
            "Epoch 4/40\n",
            "5/5 [==============================] - 1s 133ms/step - loss: 0.6372 - accuracy: 0.7361 - val_loss: 1.2427 - val_accuracy: 0.4722\n",
            "Epoch 5/40\n",
            "5/5 [==============================] - 1s 150ms/step - loss: 0.6317 - accuracy: 0.7222 - val_loss: 1.2294 - val_accuracy: 0.4722\n",
            "Epoch 6/40\n",
            "5/5 [==============================] - 1s 131ms/step - loss: 0.5725 - accuracy: 0.7569 - val_loss: 1.2033 - val_accuracy: 0.4722\n",
            "Epoch 7/40\n",
            "5/5 [==============================] - 1s 149ms/step - loss: 0.6144 - accuracy: 0.7222 - val_loss: 1.1997 - val_accuracy: 0.4722\n",
            "Epoch 8/40\n",
            "5/5 [==============================] - 1s 131ms/step - loss: 0.5550 - accuracy: 0.7778 - val_loss: 1.3716 - val_accuracy: 0.4722\n",
            "Epoch 9/40\n",
            "5/5 [==============================] - 1s 146ms/step - loss: 0.4881 - accuracy: 0.7708 - val_loss: 1.1586 - val_accuracy: 0.5556\n",
            "Epoch 10/40\n",
            "5/5 [==============================] - 1s 150ms/step - loss: 0.5355 - accuracy: 0.7778 - val_loss: 1.1459 - val_accuracy: 0.6111\n",
            "Epoch 11/40\n",
            "5/5 [==============================] - 1s 131ms/step - loss: 0.5404 - accuracy: 0.7431 - val_loss: 1.1741 - val_accuracy: 0.6111\n",
            "Epoch 12/40\n",
            "5/5 [==============================] - 1s 128ms/step - loss: 0.5582 - accuracy: 0.7708 - val_loss: 1.1444 - val_accuracy: 0.6111\n",
            "Epoch 13/40\n",
            "5/5 [==============================] - 1s 133ms/step - loss: 0.4728 - accuracy: 0.8056 - val_loss: 1.2031 - val_accuracy: 0.6111\n",
            "Epoch 14/40\n",
            "5/5 [==============================] - 1s 143ms/step - loss: 0.4905 - accuracy: 0.8125 - val_loss: 1.2072 - val_accuracy: 0.5556\n",
            "Epoch 15/40\n",
            "5/5 [==============================] - 1s 131ms/step - loss: 0.4558 - accuracy: 0.7917 - val_loss: 1.0457 - val_accuracy: 0.5556\n",
            "Epoch 16/40\n",
            "5/5 [==============================] - 1s 129ms/step - loss: 0.4472 - accuracy: 0.8194 - val_loss: 1.0793 - val_accuracy: 0.5278\n",
            "Epoch 17/40\n",
            "5/5 [==============================] - 1s 141ms/step - loss: 0.4229 - accuracy: 0.8333 - val_loss: 0.9959 - val_accuracy: 0.5556\n",
            "Epoch 18/40\n",
            "5/5 [==============================] - 1s 144ms/step - loss: 0.4813 - accuracy: 0.7917 - val_loss: 0.9331 - val_accuracy: 0.5833\n",
            "Epoch 19/40\n",
            "5/5 [==============================] - 1s 130ms/step - loss: 0.4026 - accuracy: 0.8542 - val_loss: 0.9044 - val_accuracy: 0.5556\n",
            "Epoch 20/40\n",
            "5/5 [==============================] - 1s 126ms/step - loss: 0.4321 - accuracy: 0.8403 - val_loss: 0.8053 - val_accuracy: 0.6111\n",
            "Epoch 21/40\n",
            "5/5 [==============================] - 1s 128ms/step - loss: 0.3985 - accuracy: 0.8611 - val_loss: 0.7761 - val_accuracy: 0.6111\n",
            "Epoch 22/40\n",
            "5/5 [==============================] - 1s 129ms/step - loss: 0.4850 - accuracy: 0.8125 - val_loss: 0.8003 - val_accuracy: 0.6111\n",
            "Epoch 23/40\n",
            "5/5 [==============================] - 1s 142ms/step - loss: 0.4231 - accuracy: 0.8125 - val_loss: 0.9168 - val_accuracy: 0.6111\n",
            "Epoch 24/40\n",
            "5/5 [==============================] - 1s 158ms/step - loss: 0.4177 - accuracy: 0.8750 - val_loss: 0.8424 - val_accuracy: 0.6111\n",
            "Epoch 25/40\n",
            "5/5 [==============================] - 1s 131ms/step - loss: 0.4053 - accuracy: 0.8472 - val_loss: 0.7473 - val_accuracy: 0.6111\n",
            "Epoch 26/40\n",
            "5/5 [==============================] - 1s 128ms/step - loss: 0.3630 - accuracy: 0.8472 - val_loss: 0.7199 - val_accuracy: 0.6667\n",
            "Epoch 27/40\n",
            "5/5 [==============================] - 1s 126ms/step - loss: 0.3903 - accuracy: 0.8403 - val_loss: 0.7683 - val_accuracy: 0.6667\n",
            "Epoch 28/40\n",
            "5/5 [==============================] - 1s 130ms/step - loss: 0.4294 - accuracy: 0.8264 - val_loss: 0.6205 - val_accuracy: 0.6944\n",
            "Epoch 29/40\n",
            "5/5 [==============================] - 1s 125ms/step - loss: 0.4236 - accuracy: 0.8264 - val_loss: 0.7149 - val_accuracy: 0.6944\n",
            "Epoch 30/40\n",
            "5/5 [==============================] - 1s 125ms/step - loss: 0.3846 - accuracy: 0.8611 - val_loss: 0.8745 - val_accuracy: 0.5556\n",
            "Epoch 31/40\n",
            "5/5 [==============================] - 1s 125ms/step - loss: 0.3328 - accuracy: 0.8542 - val_loss: 0.7231 - val_accuracy: 0.6389\n",
            "Epoch 32/40\n",
            "5/5 [==============================] - 1s 126ms/step - loss: 0.3780 - accuracy: 0.8681 - val_loss: 0.7320 - val_accuracy: 0.5833\n",
            "Epoch 33/40\n",
            "5/5 [==============================] - 1s 126ms/step - loss: 0.4303 - accuracy: 0.7847 - val_loss: 0.8053 - val_accuracy: 0.6389\n",
            "Epoch 34/40\n",
            "5/5 [==============================] - 1s 141ms/step - loss: 0.3090 - accuracy: 0.8889 - val_loss: 0.7666 - val_accuracy: 0.6389\n",
            "Epoch 35/40\n",
            "5/5 [==============================] - 1s 132ms/step - loss: 0.3488 - accuracy: 0.8611 - val_loss: 0.6807 - val_accuracy: 0.6389\n",
            "Epoch 36/40\n",
            "5/5 [==============================] - 1s 130ms/step - loss: 0.3480 - accuracy: 0.8819 - val_loss: 0.7930 - val_accuracy: 0.6667\n",
            "Epoch 37/40\n",
            "5/5 [==============================] - 1s 141ms/step - loss: 0.3421 - accuracy: 0.8681 - val_loss: 0.7078 - val_accuracy: 0.6667\n",
            "Epoch 38/40\n",
            "5/5 [==============================] - 1s 129ms/step - loss: 0.3942 - accuracy: 0.8472 - val_loss: 0.7508 - val_accuracy: 0.6944\n",
            "Epoch 39/40\n",
            "5/5 [==============================] - 1s 143ms/step - loss: 0.3917 - accuracy: 0.8403 - val_loss: 0.7436 - val_accuracy: 0.6667\n",
            "Epoch 40/40\n",
            "5/5 [==============================] - 1s 144ms/step - loss: 0.3749 - accuracy: 0.8542 - val_loss: 0.7666 - val_accuracy: 0.6667\n"
          ]
        }
      ]
    },
    {
      "cell_type": "code",
      "metadata": {
        "colab": {
          "base_uri": "https://localhost:8080/"
        },
        "id": "qZSZLbGydY3l",
        "outputId": "bf37e919-8661-4acb-ebb7-dc42a8269927"
      },
      "source": [
        "y_pred=model.predict(testx)\n",
        "pred=np.argmax(y_pred,axis=1)\n",
        "ground = np.argmax(testy,axis=1)\n",
        "print(classification_report(ground,pred))"
      ],
      "execution_count": 94,
      "outputs": [
        {
          "output_type": "stream",
          "name": "stdout",
          "text": [
            "              precision    recall  f1-score   support\n",
            "\n",
            "           0       0.57      0.87      0.68        15\n",
            "           1       0.60      0.23      0.33        13\n",
            "           2       1.00      1.00      1.00         8\n",
            "\n",
            "    accuracy                           0.67        36\n",
            "   macro avg       0.72      0.70      0.67        36\n",
            "weighted avg       0.67      0.67      0.63        36\n",
            "\n"
          ]
        }
      ]
    },
    {
      "cell_type": "code",
      "metadata": {
        "colab": {
          "base_uri": "https://localhost:8080/",
          "height": 298
        },
        "id": "2RwCJps3lXGn",
        "outputId": "b203bd42-7db2-4119-911b-2a8506e188f2"
      },
      "source": [
        "get_acc = his.history['accuracy']\n",
        "value_acc = his.history['val_accuracy']\n",
        "get_loss = his.history['loss']\n",
        "validation_loss = his.history['val_loss']\n",
        "\n",
        "epochs = range(len(get_acc))\n",
        "plt.plot(epochs, get_acc, 'r', label='Accuracy of Training data')\n",
        "plt.plot(epochs, value_acc, 'b', label='Accuracy of Validation data')\n",
        "plt.title('Training vs validation accuracy')\n",
        "plt.legend(loc=0)\n",
        "plt.figure()\n",
        "plt.show()"
      ],
      "execution_count": 95,
      "outputs": [
        {
          "output_type": "display_data",
          "data": {
            "image/png": "[encoded data removed]",
            "text/plain": [
              "<Figure size 432x288 with 1 Axes>"
            ]
          },
          "metadata": {
            "needs_background": "light"
          }
        },
        {
          "output_type": "display_data",
          "data": {
            "text/plain": [
              "<Figure size 432x288 with 0 Axes>"
            ]
          },
          "metadata": {}
        }
      ]
    },
    {
      "cell_type": "code",
      "metadata": {
        "colab": {
          "base_uri": "https://localhost:8080/",
          "height": 298
        },
        "id": "QHmDwrhildHN",
        "outputId": "de878ec2-7322-4ecb-84fc-0bf1d2273105"
      },
      "source": [
        "epochs = range(len(get_loss))\n",
        "plt.plot(epochs, get_loss, 'r', label='Loss of Training data')\n",
        "plt.plot(epochs, validation_loss, 'b', label='Loss of Validation data')\n",
        "plt.title('Training vs validation loss')\n",
        "plt.legend(loc=0)\n",
        "plt.figure()\n",
        "plt.show()"
      ],
      "execution_count": 96,
      "outputs": [
        {
          "output_type": "display_data",
          "data": {
            "image/png": "[encoded data removed]",
            "text/plain": [
              "<Figure size 432x288 with 1 Axes>"
            ]
          },
          "metadata": {
            "needs_background": "light"
          }
        },
        {
          "output_type": "display_data",
          "data": {
            "text/plain": [
              "<Figure size 432x288 with 0 Axes>"
            ]
          },
          "metadata": {}
        }
      ]
    },
    {
      "cell_type": "code",
      "metadata": {
        "colab": {
          "base_uri": "https://localhost:8080/",
          "height": 117
        },
        "id": "HYJ3CBKslicu",
        "outputId": "3b846f63-6a2e-4fdf-da35-a9f6e17b4d54"
      },
      "source": [
        "load_img(\"/content/drive/MyDrive/Rice disease archive/tungro/IMG_1028.jpg\",target_size=(100,100))"
      ],
      "execution_count": 97,
      "outputs": [
        {
          "output_type": "execute_result",
          "data": {
            "image/png": "[encoded data removed]",
            "text/plain": [
              "<PIL.Image.Image image mode=RGB size=100x100 at 0x7F0F05CA5BD0>"
            ]
          },
          "metadata": {},
          "execution_count": 97
        }
      ]
    },
    {
      "cell_type": "code",
      "metadata": {
        "id": "mWWAYFoOlmg4"
      },
      "source": [
        "image=load_img(\"/content/drive/MyDrive/Rice disease archive/tungro/IMG_1028.jpg\",target_size=(100,100))\n",
        "\n",
        "image=img_to_array(image) \n",
        "image=image/255.0\n",
        "prediction_image=np.array(image)\n",
        "prediction_image= np.expand_dims(image, axis=0)"
      ],
      "execution_count": 98,
      "outputs": []
    },
    {
      "cell_type": "code",
      "metadata": {
        "colab": {
          "base_uri": "https://localhost:8080/"
        },
        "id": "hn7N_4BMl3MU",
        "outputId": "01ebff5f-d7ea-4ba9-c938-32c83687a68f"
      },
      "source": [
        "prediction=model.predict(prediction_image)\n",
        "value=np.argmax(prediction)\n",
        "move_name=mapper(value)\n",
        "#print(prediction)\n",
        "#print(value)\n",
        "print(\"Prediction is {}.\".format(move_name))"
      ],
      "execution_count": 99,
      "outputs": [
        {
          "output_type": "stream",
          "name": "stdout",
          "text": [
            "Prediction is tungro.\n"
          ]
        }
      ]
    },
    {
      "cell_type": "code",
      "metadata": {
        "colab": {
          "base_uri": "https://localhost:8080/"
        },
        "id": "1Wif4rFdmA8J",
        "outputId": "7abce495-8d33-414f-860a-b4b237894f13"
      },
      "source": [
        "print(test.shape)\n",
        "prediction2=model.predict(test)\n",
        "print(prediction2.shape)\n",
        "\n",
        "PRED=[]\n",
        "for item in prediction2:\n",
        "    value2=np.argmax(item)      \n",
        "    PRED+=[value2]"
      ],
      "execution_count": 100,
      "outputs": [
        {
          "output_type": "stream",
          "name": "stdout",
          "text": [
            "(60, 100, 100, 3)\n",
            "(60, 3)\n"
          ]
        }
      ]
    },
    {
      "cell_type": "code",
      "metadata": {
        "id": "KicY6SO_mHGx"
      },
      "source": [
        "ANS=tlabels0"
      ],
      "execution_count": 101,
      "outputs": []
    },
    {
      "cell_type": "code",
      "metadata": {
        "colab": {
          "base_uri": "https://localhost:8080/"
        },
        "id": "o_AqzW61mNx6",
        "outputId": "d5995e30-8dc3-42fa-c662-77276f0fa39b"
      },
      "source": [
        "accuracy=accuracy_score(ANS,PRED)\n",
        "print(accuracy)"
      ],
      "execution_count": 102,
      "outputs": [
        {
          "output_type": "stream",
          "name": "stdout",
          "text": [
            "0.7833333333333333\n"
          ]
        }
      ]
    },
    {
      "cell_type": "code",
      "metadata": {
        "id": "jYAyh1zMmQVs"
      },
      "source": [
        ""
      ],
      "execution_count": 102,
      "outputs": []
    }
  ]
}
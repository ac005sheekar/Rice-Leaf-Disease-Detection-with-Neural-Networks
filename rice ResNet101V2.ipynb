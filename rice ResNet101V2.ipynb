{
  "nbformat": 4,
  "nbformat_minor": 0,
  "metadata": {
    "colab": {
      "name": "rice.ipynb",
      "provenance": []
    },
    "kernelspec": {
      "name": "python3",
      "display_name": "Python 3"
    },
    "language_info": {
      "name": "python"
    },
    "accelerator": "GPU"
  },
  "cells": [
    {
      "cell_type": "code",
      "metadata": {
        "id": "zTQx7HTNT8sS"
      },
      "source": [
        "import numpy as np\n",
        "import pandas as pd\n",
        "import os\n",
        "import matplotlib.pyplot as plt\n",
        "import tensorflow as tf\n",
        "\n",
        "from tensorflow.keras.utils import to_categorical\n",
        "from tensorflow.keras.preprocessing.image import load_img, img_to_array\n",
        "from tensorflow.python.keras.preprocessing.image import ImageDataGenerator\n",
        "\n",
        "from sklearn.metrics import classification_report, log_loss, accuracy_score\n",
        "from sklearn.model_selection import train_test_split\n",
        "import tensorflow.keras.applications.resnet"
      ],
      "execution_count": 53,
      "outputs": []
    },
    {
      "cell_type": "code",
      "metadata": {
        "id": "gevtjrwdbd_g"
      },
      "source": [
        "directory = '/content/drive/MyDrive/Rice disease archive'"
      ],
      "execution_count": 54,
      "outputs": []
    },
    {
      "cell_type": "code",
      "metadata": {
        "colab": {
          "base_uri": "https://localhost:8080/"
        },
        "id": "1--U71Gbb2iR",
        "outputId": "6429fffd-0e78-4c1c-ec85-e94d0e9f489b"
      },
      "source": [
        "Name=[]\n",
        "for file in os.listdir(directory):\n",
        "    Name+=[file]\n",
        "print(Name)\n",
        "print(len(Name))"
      ],
      "execution_count": 55,
      "outputs": [
        {
          "output_type": "stream",
          "name": "stdout",
          "text": [
            "['blast', 'tungro', 'blight']\n",
            "3\n"
          ]
        }
      ]
    },
    {
      "cell_type": "code",
      "metadata": {
        "id": "F8XwAMvpcO6I"
      },
      "source": [
        "N=[]\n",
        "for i in range(len(Name)):\n",
        "    N+=[i]\n",
        "    \n",
        "normal_mapping=dict(zip(Name,N)) \n",
        "reverse_mapping=dict(zip(N,Name)) \n",
        "\n",
        "def mapper(value):\n",
        "    return reverse_mapping[value]"
      ],
      "execution_count": 56,
      "outputs": []
    },
    {
      "cell_type": "code",
      "metadata": {
        "id": "eyPlDXJ5cSMq"
      },
      "source": [
        "dataset=[]\n",
        "testset=[]\n",
        "count=0\n",
        "for name in Name:\n",
        "    path=os.path.join(directory,name)\n",
        "    t=0\n",
        "    for im in os.listdir(path):\n",
        "        if im[-4:]=='.jpg':\n",
        "            image=load_img(os.path.join(path,im), grayscale=False, color_mode='rgb', target_size=(100,100))\n",
        "            image=img_to_array(image)\n",
        "            image=image/255.0\n",
        "            if t<60:\n",
        "                dataset.append([image,count])\n",
        "            else:   \n",
        "                testset.append([image,count])\n",
        "            t+=1\n",
        "    count=count+1"
      ],
      "execution_count": 57,
      "outputs": []
    },
    {
      "cell_type": "code",
      "metadata": {
        "id": "Llo9capTcVti"
      },
      "source": [
        "data,labels0=zip(*dataset)\n",
        "test,tlabels0=zip(*testset)"
      ],
      "execution_count": 58,
      "outputs": []
    },
    {
      "cell_type": "code",
      "metadata": {
        "id": "PxDDBrHhciUF"
      },
      "source": [
        "labels1=to_categorical(labels0)\n",
        "data=np.array(data)\n",
        "labels=np.array(labels1)"
      ],
      "execution_count": 59,
      "outputs": []
    },
    {
      "cell_type": "code",
      "metadata": {
        "id": "QsHLqCZ-cnYm"
      },
      "source": [
        "tlabels1=to_categorical(tlabels0)\n",
        "test=np.array(test)\n",
        "tlabels=np.array(tlabels1)"
      ],
      "execution_count": 60,
      "outputs": []
    },
    {
      "cell_type": "code",
      "metadata": {
        "colab": {
          "base_uri": "https://localhost:8080/"
        },
        "id": "GwCLIdpRcp6N",
        "outputId": "857c6300-c7ec-471c-9330-650fa0ad4238"
      },
      "source": [
        "print(len(labels))\n",
        "print(len(tlabels))"
      ],
      "execution_count": 61,
      "outputs": [
        {
          "output_type": "stream",
          "name": "stdout",
          "text": [
            "180\n",
            "60\n"
          ]
        }
      ]
    },
    {
      "cell_type": "code",
      "metadata": {
        "id": "HYX95i06csAA"
      },
      "source": [
        "trainx,testx,trainy,testy=train_test_split(data,labels,test_size=0.2,random_state=44)"
      ],
      "execution_count": 62,
      "outputs": []
    },
    {
      "cell_type": "code",
      "metadata": {
        "colab": {
          "base_uri": "https://localhost:8080/"
        },
        "id": "9J77vA3Qcuzz",
        "outputId": "33c739c6-3f1a-48e4-a6a6-38685f331586"
      },
      "source": [
        "print(trainx.shape)\n",
        "print(testx.shape)\n",
        "print(trainy.shape)\n",
        "print(testy.shape)"
      ],
      "execution_count": 63,
      "outputs": [
        {
          "output_type": "stream",
          "name": "stdout",
          "text": [
            "(144, 100, 100, 3)\n",
            "(36, 100, 100, 3)\n",
            "(144, 3)\n",
            "(36, 3)\n"
          ]
        }
      ]
    },
    {
      "cell_type": "code",
      "metadata": {
        "id": "pDMYSzaocxau"
      },
      "source": [
        "datagen = ImageDataGenerator(horizontal_flip=True,vertical_flip=True,rotation_range=20,zoom_range=0.2,\n",
        "                        width_shift_range=0.2,height_shift_range=0.2,shear_range=0.1,fill_mode=\"nearest\")"
      ],
      "execution_count": 64,
      "outputs": []
    },
    {
      "cell_type": "code",
      "metadata": {
        "colab": {
          "base_uri": "https://localhost:8080/"
        },
        "id": "cVU6qg8kc4p_",
        "outputId": "e0eb476a-3e41-48b0-e292-92f35466079f"
      },
      "source": [
        "pretrained_model3 = tf.keras.applications.ResNet101V2(input_shape=(100,100,3),include_top=False,weights='imagenet',pooling='avg')\n",
        "pretrained_model3.trainable = False"
      ],
      "execution_count": 65,
      "outputs": [
        {
          "output_type": "stream",
          "name": "stdout",
          "text": [
            "Downloading data from https://storage.googleapis.com/tensorflow/keras-applications/resnet/resnet101v2_weights_tf_dim_ordering_tf_kernels_notop.h5\n",
            "171319296/171317808 [==============================] - 2s 0us/step\n",
            "171327488/171317808 [==============================] - 2s 0us/step\n"
          ]
        }
      ]
    },
    {
      "cell_type": "code",
      "metadata": {
        "id": "M6b8HMDjdEHP"
      },
      "source": [
        "inputs3 = pretrained_model3.input\n",
        "x3 = tf.keras.layers.Dense(128, activation='relu')(pretrained_model3.output)\n",
        "outputs3 = tf.keras.layers.Dense(3, activation='softmax')(x3)\n",
        "model = tf.keras.Model(inputs=inputs3, outputs=outputs3)"
      ],
      "execution_count": 66,
      "outputs": []
    },
    {
      "cell_type": "code",
      "metadata": {
        "id": "bwgEEf9FdQKL"
      },
      "source": [
        "model.compile(optimizer='adam',loss='categorical_crossentropy',metrics=['accuracy'])"
      ],
      "execution_count": 67,
      "outputs": []
    },
    {
      "cell_type": "code",
      "metadata": {
        "colab": {
          "base_uri": "https://localhost:8080/"
        },
        "id": "EO-mAYsHdSs5",
        "outputId": "21430bd1-1588-4731-c6ce-315d7a2d33a5"
      },
      "source": [
        "his=model.fit(datagen.flow(trainx,trainy,batch_size=32),validation_data=(testx,testy),epochs=40)"
      ],
      "execution_count": 68,
      "outputs": [
        {
          "output_type": "stream",
          "name": "stdout",
          "text": [
            "Epoch 1/40\n",
            "5/5 [==============================] - 10s 695ms/step - loss: 1.1407 - accuracy: 0.4444 - val_loss: 1.1981 - val_accuracy: 0.4167\n",
            "Epoch 2/40\n",
            "5/5 [==============================] - 1s 173ms/step - loss: 0.8638 - accuracy: 0.6319 - val_loss: 1.2313 - val_accuracy: 0.5556\n",
            "Epoch 3/40\n",
            "5/5 [==============================] - 1s 224ms/step - loss: 0.7844 - accuracy: 0.6875 - val_loss: 1.1785 - val_accuracy: 0.5556\n",
            "Epoch 4/40\n",
            "5/5 [==============================] - 1s 171ms/step - loss: 0.7321 - accuracy: 0.7222 - val_loss: 1.1944 - val_accuracy: 0.5556\n",
            "Epoch 5/40\n",
            "5/5 [==============================] - 1s 212ms/step - loss: 0.5155 - accuracy: 0.7847 - val_loss: 1.1724 - val_accuracy: 0.5556\n",
            "Epoch 6/40\n",
            "5/5 [==============================] - 1s 171ms/step - loss: 0.5554 - accuracy: 0.7847 - val_loss: 1.1058 - val_accuracy: 0.5556\n",
            "Epoch 7/40\n",
            "5/5 [==============================] - 1s 223ms/step - loss: 0.5713 - accuracy: 0.7361 - val_loss: 1.1214 - val_accuracy: 0.5833\n",
            "Epoch 8/40\n",
            "5/5 [==============================] - 1s 187ms/step - loss: 0.5174 - accuracy: 0.7917 - val_loss: 1.1510 - val_accuracy: 0.5278\n",
            "Epoch 9/40\n",
            "5/5 [==============================] - 1s 173ms/step - loss: 0.5331 - accuracy: 0.7708 - val_loss: 1.1454 - val_accuracy: 0.6389\n",
            "Epoch 10/40\n",
            "5/5 [==============================] - 1s 173ms/step - loss: 0.4959 - accuracy: 0.7778 - val_loss: 1.1202 - val_accuracy: 0.5833\n",
            "Epoch 11/40\n",
            "5/5 [==============================] - 1s 189ms/step - loss: 0.4553 - accuracy: 0.7708 - val_loss: 1.0487 - val_accuracy: 0.6111\n",
            "Epoch 12/40\n",
            "5/5 [==============================] - 1s 168ms/step - loss: 0.4761 - accuracy: 0.8333 - val_loss: 1.0061 - val_accuracy: 0.6667\n",
            "Epoch 13/40\n",
            "5/5 [==============================] - 1s 176ms/step - loss: 0.5129 - accuracy: 0.7917 - val_loss: 0.9342 - val_accuracy: 0.5833\n",
            "Epoch 14/40\n",
            "5/5 [==============================] - 1s 176ms/step - loss: 0.5188 - accuracy: 0.8125 - val_loss: 0.9283 - val_accuracy: 0.6389\n",
            "Epoch 15/40\n",
            "5/5 [==============================] - 1s 169ms/step - loss: 0.5039 - accuracy: 0.8264 - val_loss: 0.8812 - val_accuracy: 0.6667\n",
            "Epoch 16/40\n",
            "5/5 [==============================] - 1s 165ms/step - loss: 0.4880 - accuracy: 0.7917 - val_loss: 0.8406 - val_accuracy: 0.6667\n",
            "Epoch 17/40\n",
            "5/5 [==============================] - 1s 167ms/step - loss: 0.4779 - accuracy: 0.7917 - val_loss: 0.9030 - val_accuracy: 0.5556\n",
            "Epoch 18/40\n",
            "5/5 [==============================] - 1s 185ms/step - loss: 0.3105 - accuracy: 0.8889 - val_loss: 1.2436 - val_accuracy: 0.6111\n",
            "Epoch 19/40\n",
            "5/5 [==============================] - 1s 168ms/step - loss: 0.3938 - accuracy: 0.8403 - val_loss: 1.0596 - val_accuracy: 0.6667\n",
            "Epoch 20/40\n",
            "5/5 [==============================] - 1s 172ms/step - loss: 0.5051 - accuracy: 0.7847 - val_loss: 1.0049 - val_accuracy: 0.6667\n",
            "Epoch 21/40\n",
            "5/5 [==============================] - 1s 166ms/step - loss: 0.4786 - accuracy: 0.8125 - val_loss: 1.0254 - val_accuracy: 0.6111\n",
            "Epoch 22/40\n",
            "5/5 [==============================] - 1s 172ms/step - loss: 0.3131 - accuracy: 0.8819 - val_loss: 0.9663 - val_accuracy: 0.6667\n",
            "Epoch 23/40\n",
            "5/5 [==============================] - 1s 173ms/step - loss: 0.3914 - accuracy: 0.8403 - val_loss: 0.7734 - val_accuracy: 0.6667\n",
            "Epoch 24/40\n",
            "5/5 [==============================] - 1s 174ms/step - loss: 0.4329 - accuracy: 0.8125 - val_loss: 0.8393 - val_accuracy: 0.7500\n",
            "Epoch 25/40\n",
            "5/5 [==============================] - 1s 171ms/step - loss: 0.4421 - accuracy: 0.8194 - val_loss: 0.7728 - val_accuracy: 0.6944\n",
            "Epoch 26/40\n",
            "5/5 [==============================] - 1s 183ms/step - loss: 0.3936 - accuracy: 0.8264 - val_loss: 0.8133 - val_accuracy: 0.6667\n",
            "Epoch 27/40\n",
            "5/5 [==============================] - 1s 170ms/step - loss: 0.4220 - accuracy: 0.8681 - val_loss: 0.7593 - val_accuracy: 0.7222\n",
            "Epoch 28/40\n",
            "5/5 [==============================] - 1s 222ms/step - loss: 0.3886 - accuracy: 0.8403 - val_loss: 0.7774 - val_accuracy: 0.6944\n",
            "Epoch 29/40\n",
            "5/5 [==============================] - 1s 171ms/step - loss: 0.2781 - accuracy: 0.8750 - val_loss: 0.7702 - val_accuracy: 0.7500\n",
            "Epoch 30/40\n",
            "5/5 [==============================] - 1s 172ms/step - loss: 0.4757 - accuracy: 0.8125 - val_loss: 0.7449 - val_accuracy: 0.7778\n",
            "Epoch 31/40\n",
            "5/5 [==============================] - 1s 187ms/step - loss: 0.3569 - accuracy: 0.8333 - val_loss: 0.8617 - val_accuracy: 0.7222\n",
            "Epoch 32/40\n",
            "5/5 [==============================] - 1s 173ms/step - loss: 0.4246 - accuracy: 0.8472 - val_loss: 0.7973 - val_accuracy: 0.7222\n",
            "Epoch 33/40\n",
            "5/5 [==============================] - 1s 171ms/step - loss: 0.3557 - accuracy: 0.8542 - val_loss: 0.7667 - val_accuracy: 0.7500\n",
            "Epoch 34/40\n",
            "5/5 [==============================] - 1s 169ms/step - loss: 0.4041 - accuracy: 0.8403 - val_loss: 0.8032 - val_accuracy: 0.6944\n",
            "Epoch 35/40\n",
            "5/5 [==============================] - 1s 186ms/step - loss: 0.3310 - accuracy: 0.8819 - val_loss: 0.9557 - val_accuracy: 0.6389\n",
            "Epoch 36/40\n",
            "5/5 [==============================] - 1s 186ms/step - loss: 0.3206 - accuracy: 0.8681 - val_loss: 0.9080 - val_accuracy: 0.6111\n",
            "Epoch 37/40\n",
            "5/5 [==============================] - 1s 171ms/step - loss: 0.2765 - accuracy: 0.8819 - val_loss: 0.8961 - val_accuracy: 0.6667\n",
            "Epoch 38/40\n",
            "5/5 [==============================] - 1s 171ms/step - loss: 0.3297 - accuracy: 0.8542 - val_loss: 0.9446 - val_accuracy: 0.6667\n",
            "Epoch 39/40\n",
            "5/5 [==============================] - 1s 173ms/step - loss: 0.4400 - accuracy: 0.8403 - val_loss: 1.0047 - val_accuracy: 0.6389\n",
            "Epoch 40/40\n",
            "5/5 [==============================] - 1s 169ms/step - loss: 0.3415 - accuracy: 0.8403 - val_loss: 0.9625 - val_accuracy: 0.6389\n"
          ]
        }
      ]
    },
    {
      "cell_type": "code",
      "metadata": {
        "colab": {
          "base_uri": "https://localhost:8080/"
        },
        "id": "qZSZLbGydY3l",
        "outputId": "3803b357-82ee-443f-e082-0e28acb3c165"
      },
      "source": [
        "y_pred=model.predict(testx)\n",
        "pred=np.argmax(y_pred,axis=1)\n",
        "ground = np.argmax(testy,axis=1)\n",
        "print(classification_report(ground,pred))"
      ],
      "execution_count": 69,
      "outputs": [
        {
          "output_type": "stream",
          "name": "stdout",
          "text": [
            "              precision    recall  f1-score   support\n",
            "\n",
            "           0       0.75      0.60      0.67        15\n",
            "           1       0.64      0.54      0.58        13\n",
            "           2       0.54      0.88      0.67         8\n",
            "\n",
            "    accuracy                           0.64        36\n",
            "   macro avg       0.64      0.67      0.64        36\n",
            "weighted avg       0.66      0.64      0.64        36\n",
            "\n"
          ]
        }
      ]
    },
    {
      "cell_type": "code",
      "metadata": {
        "colab": {
          "base_uri": "https://localhost:8080/",
          "height": 298
        },
        "id": "2RwCJps3lXGn",
        "outputId": "1e1ec331-62ba-43c9-99ef-a0ba745ce905"
      },
      "source": [
        "get_acc = his.history['accuracy']\n",
        "value_acc = his.history['val_accuracy']\n",
        "get_loss = his.history['loss']\n",
        "validation_loss = his.history['val_loss']\n",
        "\n",
        "epochs = range(len(get_acc))\n",
        "plt.plot(epochs, get_acc, 'r', label='Accuracy of Training data')\n",
        "plt.plot(epochs, value_acc, 'b', label='Accuracy of Validation data')\n",
        "plt.title('Training vs validation accuracy')\n",
        "plt.legend(loc=0)\n",
        "plt.figure()\n",
        "plt.show()"
      ],
      "execution_count": 70,
      "outputs": [
        {
          "output_type": "display_data",
          "data": {
            "image/png": "[encoded data removed]",
            "text/plain": [
              "<Figure size 432x288 with 1 Axes>"
            ]
          },
          "metadata": {
            "needs_background": "light"
          }
        },
        {
          "output_type": "display_data",
          "data": {
            "text/plain": [
              "<Figure size 432x288 with 0 Axes>"
            ]
          },
          "metadata": {}
        }
      ]
    },
    {
      "cell_type": "code",
      "metadata": {
        "colab": {
          "base_uri": "https://localhost:8080/",
          "height": 298
        },
        "id": "QHmDwrhildHN",
        "outputId": "5c870917-0a92-4e00-b913-706ec254a0f7"
      },
      "source": [
        "epochs = range(len(get_loss))\n",
        "plt.plot(epochs, get_loss, 'r', label='Loss of Training data')\n",
        "plt.plot(epochs, validation_loss, 'b', label='Loss of Validation data')\n",
        "plt.title('Training vs validation loss')\n",
        "plt.legend(loc=0)\n",
        "plt.figure()\n",
        "plt.show()"
      ],
      "execution_count": 71,
      "outputs": [
        {
          "output_type": "display_data",
          "data": {
            "image/png": "[encoded data removed]",
            "text/plain": [
              "<Figure size 432x288 with 1 Axes>"
            ]
          },
          "metadata": {
            "needs_background": "light"
          }
        },
        {
          "output_type": "display_data",
          "data": {
            "text/plain": [
              "<Figure size 432x288 with 0 Axes>"
            ]
          },
          "metadata": {}
        }
      ]
    },
    {
      "cell_type": "code",
      "metadata": {
        "colab": {
          "base_uri": "https://localhost:8080/",
          "height": 117
        },
        "id": "HYJ3CBKslicu",
        "outputId": "9b3f49aa-e392-4ffe-aa85-924dfa25466a"
      },
      "source": [
        "load_img(\"/content/drive/MyDrive/Rice disease archive/tungro/IMG_1028.jpg\",target_size=(100,100))"
      ],
      "execution_count": 72,
      "outputs": [
        {
          "output_type": "execute_result",
          "data": {
            "image/png": "[encoded data removed]",
            "text/plain": [
              "<PIL.Image.Image image mode=RGB size=100x100 at 0x7F0E94595B10>"
            ]
          },
          "metadata": {},
          "execution_count": 72
        }
      ]
    },
    {
      "cell_type": "code",
      "metadata": {
        "id": "mWWAYFoOlmg4"
      },
      "source": [
        "image=load_img(\"/content/drive/MyDrive/Rice disease archive/tungro/IMG_1028.jpg\",target_size=(100,100))\n",
        "\n",
        "image=img_to_array(image) \n",
        "image=image/255.0\n",
        "prediction_image=np.array(image)\n",
        "prediction_image= np.expand_dims(image, axis=0)"
      ],
      "execution_count": 73,
      "outputs": []
    },
    {
      "cell_type": "code",
      "metadata": {
        "colab": {
          "base_uri": "https://localhost:8080/"
        },
        "id": "hn7N_4BMl3MU",
        "outputId": "9ccc2d39-3733-4a9d-95dd-f0c652575b57"
      },
      "source": [
        "prediction=model.predict(prediction_image)\n",
        "value=np.argmax(prediction)\n",
        "move_name=mapper(value)\n",
        "#print(prediction)\n",
        "#print(value)\n",
        "print(\"Prediction is {}.\".format(move_name))"
      ],
      "execution_count": 74,
      "outputs": [
        {
          "output_type": "stream",
          "name": "stdout",
          "text": [
            "Prediction is blight.\n"
          ]
        }
      ]
    },
    {
      "cell_type": "code",
      "metadata": {
        "colab": {
          "base_uri": "https://localhost:8080/"
        },
        "id": "1Wif4rFdmA8J",
        "outputId": "2be528e6-378a-404c-8fda-55f473101825"
      },
      "source": [
        "print(test.shape)\n",
        "prediction2=model.predict(test)\n",
        "print(prediction2.shape)\n",
        "\n",
        "PRED=[]\n",
        "for item in prediction2:\n",
        "    value2=np.argmax(item)      \n",
        "    PRED+=[value2]"
      ],
      "execution_count": 75,
      "outputs": [
        {
          "output_type": "stream",
          "name": "stdout",
          "text": [
            "(60, 100, 100, 3)\n",
            "(60, 3)\n"
          ]
        }
      ]
    },
    {
      "cell_type": "code",
      "metadata": {
        "id": "KicY6SO_mHGx"
      },
      "source": [
        "ANS=tlabels0"
      ],
      "execution_count": 76,
      "outputs": []
    },
    {
      "cell_type": "code",
      "metadata": {
        "colab": {
          "base_uri": "https://localhost:8080/"
        },
        "id": "o_AqzW61mNx6",
        "outputId": "44504542-3029-4392-853a-64dc879c6918"
      },
      "source": [
        "accuracy=accuracy_score(ANS,PRED)\n",
        "print(accuracy)"
      ],
      "execution_count": 77,
      "outputs": [
        {
          "output_type": "stream",
          "name": "stdout",
          "text": [
            "0.7833333333333333\n"
          ]
        }
      ]
    },
    {
      "cell_type": "code",
      "metadata": {
        "id": "jYAyh1zMmQVs"
      },
      "source": [
        ""
      ],
      "execution_count": 77,
      "outputs": []
    }
  ]
}
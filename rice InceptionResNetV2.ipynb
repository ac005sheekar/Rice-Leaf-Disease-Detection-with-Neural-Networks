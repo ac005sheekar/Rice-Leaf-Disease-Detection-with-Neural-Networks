{
  "nbformat": 4,
  "nbformat_minor": 0,
  "metadata": {
    "colab": {
      "name": "rice.ipynb",
      "provenance": []
    },
    "kernelspec": {
      "name": "python3",
      "display_name": "Python 3"
    },
    "language_info": {
      "name": "python"
    },
    "accelerator": "GPU"
  },
  "cells": [
    {
      "cell_type": "code",
      "metadata": {
        "id": "zTQx7HTNT8sS"
      },
      "source": [
        "import numpy as np\n",
        "import pandas as pd\n",
        "import os\n",
        "import matplotlib.pyplot as plt\n",
        "import tensorflow as tf\n",
        "\n",
        "from tensorflow.keras.utils import to_categorical\n",
        "from tensorflow.keras.preprocessing.image import load_img, img_to_array\n",
        "from tensorflow.python.keras.preprocessing.image import ImageDataGenerator\n",
        "\n",
        "from sklearn.metrics import classification_report, log_loss, accuracy_score\n",
        "from sklearn.model_selection import train_test_split\n",
        "import tensorflow.keras.applications.inception_resnet_v2"
      ],
      "execution_count": 153,
      "outputs": []
    },
    {
      "cell_type": "code",
      "metadata": {
        "id": "gevtjrwdbd_g"
      },
      "source": [
        "directory = '/content/drive/MyDrive/Rice disease archive'"
      ],
      "execution_count": 154,
      "outputs": []
    },
    {
      "cell_type": "code",
      "metadata": {
        "colab": {
          "base_uri": "https://localhost:8080/"
        },
        "id": "1--U71Gbb2iR",
        "outputId": "bb1171d4-b968-4ed2-c36a-e6c53b9bc020"
      },
      "source": [
        "Name=[]\n",
        "for file in os.listdir(directory):\n",
        "    Name+=[file]\n",
        "print(Name)\n",
        "print(len(Name))"
      ],
      "execution_count": 155,
      "outputs": [
        {
          "output_type": "stream",
          "name": "stdout",
          "text": [
            "['blast', 'tungro', 'blight']\n",
            "3\n"
          ]
        }
      ]
    },
    {
      "cell_type": "code",
      "metadata": {
        "id": "F8XwAMvpcO6I"
      },
      "source": [
        "N=[]\n",
        "for i in range(len(Name)):\n",
        "    N+=[i]\n",
        "    \n",
        "normal_mapping=dict(zip(Name,N)) \n",
        "reverse_mapping=dict(zip(N,Name)) \n",
        "\n",
        "def mapper(value):\n",
        "    return reverse_mapping[value]"
      ],
      "execution_count": 156,
      "outputs": []
    },
    {
      "cell_type": "code",
      "metadata": {
        "id": "eyPlDXJ5cSMq"
      },
      "source": [
        "dataset=[]\n",
        "testset=[]\n",
        "count=0\n",
        "for name in Name:\n",
        "    path=os.path.join(directory,name)\n",
        "    t=0\n",
        "    for im in os.listdir(path):\n",
        "        if im[-4:]=='.jpg':\n",
        "            image=load_img(os.path.join(path,im), grayscale=False, color_mode='rgb', target_size=(100,100))\n",
        "            image=img_to_array(image)\n",
        "            image=image/255.0\n",
        "            if t<60:\n",
        "                dataset.append([image,count])\n",
        "            else:   \n",
        "                testset.append([image,count])\n",
        "            t+=1\n",
        "    count=count+1"
      ],
      "execution_count": 157,
      "outputs": []
    },
    {
      "cell_type": "code",
      "metadata": {
        "id": "Llo9capTcVti"
      },
      "source": [
        "data,labels0=zip(*dataset)\n",
        "test,tlabels0=zip(*testset)"
      ],
      "execution_count": 158,
      "outputs": []
    },
    {
      "cell_type": "code",
      "metadata": {
        "id": "PxDDBrHhciUF"
      },
      "source": [
        "labels1=to_categorical(labels0)\n",
        "data=np.array(data)\n",
        "labels=np.array(labels1)"
      ],
      "execution_count": 159,
      "outputs": []
    },
    {
      "cell_type": "code",
      "metadata": {
        "id": "QsHLqCZ-cnYm"
      },
      "source": [
        "tlabels1=to_categorical(tlabels0)\n",
        "test=np.array(test)\n",
        "tlabels=np.array(tlabels1)"
      ],
      "execution_count": 160,
      "outputs": []
    },
    {
      "cell_type": "code",
      "metadata": {
        "colab": {
          "base_uri": "https://localhost:8080/"
        },
        "id": "GwCLIdpRcp6N",
        "outputId": "55eccce8-e49b-4480-fa41-a06da0539c8b"
      },
      "source": [
        "print(len(labels))\n",
        "print(len(tlabels))"
      ],
      "execution_count": 161,
      "outputs": [
        {
          "output_type": "stream",
          "name": "stdout",
          "text": [
            "180\n",
            "60\n"
          ]
        }
      ]
    },
    {
      "cell_type": "code",
      "metadata": {
        "id": "HYX95i06csAA"
      },
      "source": [
        "trainx,testx,trainy,testy=train_test_split(data,labels,test_size=0.2,random_state=44)"
      ],
      "execution_count": 162,
      "outputs": []
    },
    {
      "cell_type": "code",
      "metadata": {
        "colab": {
          "base_uri": "https://localhost:8080/"
        },
        "id": "9J77vA3Qcuzz",
        "outputId": "da059263-4cdf-4dab-c8c1-82f09cef45ea"
      },
      "source": [
        "print(trainx.shape)\n",
        "print(testx.shape)\n",
        "print(trainy.shape)\n",
        "print(testy.shape)"
      ],
      "execution_count": 163,
      "outputs": [
        {
          "output_type": "stream",
          "name": "stdout",
          "text": [
            "(144, 100, 100, 3)\n",
            "(36, 100, 100, 3)\n",
            "(144, 3)\n",
            "(36, 3)\n"
          ]
        }
      ]
    },
    {
      "cell_type": "code",
      "metadata": {
        "id": "pDMYSzaocxau"
      },
      "source": [
        "datagen = ImageDataGenerator(horizontal_flip=True,vertical_flip=True,rotation_range=20,zoom_range=0.2,\n",
        "                        width_shift_range=0.2,height_shift_range=0.2,shear_range=0.1,fill_mode=\"nearest\")"
      ],
      "execution_count": 164,
      "outputs": []
    },
    {
      "cell_type": "code",
      "metadata": {
        "colab": {
          "base_uri": "https://localhost:8080/"
        },
        "id": "cVU6qg8kc4p_",
        "outputId": "d73e2a40-d023-4fd0-ed05-e37183a4c780"
      },
      "source": [
        "pretrained_model3 = tf.keras.applications.InceptionResNetV2(input_shape=(100,100,3),include_top=False,weights='imagenet',pooling='avg')\n",
        "pretrained_model3.trainable = False"
      ],
      "execution_count": 165,
      "outputs": [
        {
          "output_type": "stream",
          "name": "stdout",
          "text": [
            "Downloading data from https://storage.googleapis.com/tensorflow/keras-applications/inception_resnet_v2/inception_resnet_v2_weights_tf_dim_ordering_tf_kernels_notop.h5\n",
            "219062272/219055592 [==============================] - 3s 0us/step\n",
            "219070464/219055592 [==============================] - 3s 0us/step\n"
          ]
        }
      ]
    },
    {
      "cell_type": "code",
      "metadata": {
        "id": "M6b8HMDjdEHP"
      },
      "source": [
        "inputs3 = pretrained_model3.input\n",
        "x3 = tf.keras.layers.Dense(128, activation='relu')(pretrained_model3.output)\n",
        "outputs3 = tf.keras.layers.Dense(3, activation='softmax')(x3)\n",
        "model = tf.keras.Model(inputs=inputs3, outputs=outputs3)"
      ],
      "execution_count": 166,
      "outputs": []
    },
    {
      "cell_type": "code",
      "metadata": {
        "id": "bwgEEf9FdQKL"
      },
      "source": [
        "model.compile(optimizer='adam',loss='categorical_crossentropy',metrics=['accuracy'])"
      ],
      "execution_count": 167,
      "outputs": []
    },
    {
      "cell_type": "code",
      "metadata": {
        "colab": {
          "base_uri": "https://localhost:8080/"
        },
        "id": "EO-mAYsHdSs5",
        "outputId": "e814a8e5-b7eb-4d34-e5c3-aff2ad05c5cf"
      },
      "source": [
        "his=model.fit(datagen.flow(trainx,trainy,batch_size=32),validation_data=(testx,testy),epochs=70)"
      ],
      "execution_count": 168,
      "outputs": [
        {
          "output_type": "stream",
          "name": "stdout",
          "text": [
            "Epoch 1/70\n",
            "5/5 [==============================] - 19s 2s/step - loss: 1.5353 - accuracy: 0.4236 - val_loss: 2.1582 - val_accuracy: 0.4167\n",
            "Epoch 2/70\n",
            "5/5 [==============================] - 1s 177ms/step - loss: 1.3428 - accuracy: 0.5139 - val_loss: 1.6010 - val_accuracy: 0.5278\n",
            "Epoch 3/70\n",
            "5/5 [==============================] - 1s 176ms/step - loss: 1.3396 - accuracy: 0.5556 - val_loss: 1.1399 - val_accuracy: 0.5278\n",
            "Epoch 4/70\n",
            "5/5 [==============================] - 1s 209ms/step - loss: 0.8643 - accuracy: 0.6597 - val_loss: 1.6775 - val_accuracy: 0.5000\n",
            "Epoch 5/70\n",
            "5/5 [==============================] - 1s 175ms/step - loss: 0.9547 - accuracy: 0.6111 - val_loss: 1.2225 - val_accuracy: 0.5833\n",
            "Epoch 6/70\n",
            "5/5 [==============================] - 1s 169ms/step - loss: 0.7766 - accuracy: 0.7083 - val_loss: 0.9241 - val_accuracy: 0.6389\n",
            "Epoch 7/70\n",
            "5/5 [==============================] - 1s 166ms/step - loss: 0.7467 - accuracy: 0.7292 - val_loss: 0.8885 - val_accuracy: 0.6389\n",
            "Epoch 8/70\n",
            "5/5 [==============================] - 1s 166ms/step - loss: 0.7738 - accuracy: 0.6597 - val_loss: 0.9352 - val_accuracy: 0.5556\n",
            "Epoch 9/70\n",
            "5/5 [==============================] - 1s 211ms/step - loss: 0.6529 - accuracy: 0.7153 - val_loss: 0.9532 - val_accuracy: 0.5833\n",
            "Epoch 10/70\n",
            "5/5 [==============================] - 1s 187ms/step - loss: 0.7625 - accuracy: 0.7014 - val_loss: 0.8879 - val_accuracy: 0.5556\n",
            "Epoch 11/70\n",
            "5/5 [==============================] - 1s 168ms/step - loss: 0.6661 - accuracy: 0.7500 - val_loss: 1.0238 - val_accuracy: 0.5278\n",
            "Epoch 12/70\n",
            "5/5 [==============================] - 1s 171ms/step - loss: 0.6006 - accuracy: 0.7083 - val_loss: 0.9188 - val_accuracy: 0.5833\n",
            "Epoch 13/70\n",
            "5/5 [==============================] - 1s 169ms/step - loss: 0.5493 - accuracy: 0.7917 - val_loss: 0.9709 - val_accuracy: 0.6111\n",
            "Epoch 14/70\n",
            "5/5 [==============================] - 1s 183ms/step - loss: 0.6281 - accuracy: 0.7639 - val_loss: 1.1005 - val_accuracy: 0.5556\n",
            "Epoch 15/70\n",
            "5/5 [==============================] - 1s 208ms/step - loss: 0.5640 - accuracy: 0.7361 - val_loss: 0.8971 - val_accuracy: 0.6389\n",
            "Epoch 16/70\n",
            "5/5 [==============================] - 1s 185ms/step - loss: 0.5215 - accuracy: 0.7639 - val_loss: 0.9297 - val_accuracy: 0.6111\n",
            "Epoch 17/70\n",
            "5/5 [==============================] - 1s 167ms/step - loss: 0.5488 - accuracy: 0.7778 - val_loss: 0.8413 - val_accuracy: 0.5833\n",
            "Epoch 18/70\n",
            "5/5 [==============================] - 1s 208ms/step - loss: 0.5144 - accuracy: 0.7708 - val_loss: 0.7744 - val_accuracy: 0.6111\n",
            "Epoch 19/70\n",
            "5/5 [==============================] - 1s 173ms/step - loss: 0.4922 - accuracy: 0.7847 - val_loss: 0.7630 - val_accuracy: 0.6111\n",
            "Epoch 20/70\n",
            "5/5 [==============================] - 1s 209ms/step - loss: 0.6984 - accuracy: 0.7222 - val_loss: 0.8107 - val_accuracy: 0.6667\n",
            "Epoch 21/70\n",
            "5/5 [==============================] - 1s 172ms/step - loss: 0.5496 - accuracy: 0.7708 - val_loss: 0.7440 - val_accuracy: 0.7222\n",
            "Epoch 22/70\n",
            "5/5 [==============================] - 1s 186ms/step - loss: 0.6188 - accuracy: 0.7500 - val_loss: 0.8355 - val_accuracy: 0.7222\n",
            "Epoch 23/70\n",
            "5/5 [==============================] - 1s 167ms/step - loss: 0.5296 - accuracy: 0.7708 - val_loss: 0.9581 - val_accuracy: 0.6944\n",
            "Epoch 24/70\n",
            "5/5 [==============================] - 1s 173ms/step - loss: 0.6353 - accuracy: 0.7847 - val_loss: 0.8764 - val_accuracy: 0.6667\n",
            "Epoch 25/70\n",
            "5/5 [==============================] - 1s 172ms/step - loss: 0.6734 - accuracy: 0.7014 - val_loss: 0.8619 - val_accuracy: 0.6944\n",
            "Epoch 26/70\n",
            "5/5 [==============================] - 1s 206ms/step - loss: 0.6096 - accuracy: 0.7708 - val_loss: 0.6709 - val_accuracy: 0.7222\n",
            "Epoch 27/70\n",
            "5/5 [==============================] - 1s 176ms/step - loss: 0.5118 - accuracy: 0.7986 - val_loss: 0.8207 - val_accuracy: 0.6944\n",
            "Epoch 28/70\n",
            "5/5 [==============================] - 1s 168ms/step - loss: 0.5210 - accuracy: 0.7986 - val_loss: 0.7668 - val_accuracy: 0.6667\n",
            "Epoch 29/70\n",
            "5/5 [==============================] - 1s 183ms/step - loss: 0.4225 - accuracy: 0.7986 - val_loss: 0.8300 - val_accuracy: 0.6667\n",
            "Epoch 30/70\n",
            "5/5 [==============================] - 1s 169ms/step - loss: 0.4527 - accuracy: 0.8125 - val_loss: 0.8596 - val_accuracy: 0.6944\n",
            "Epoch 31/70\n",
            "5/5 [==============================] - 1s 188ms/step - loss: 0.4904 - accuracy: 0.7778 - val_loss: 0.8120 - val_accuracy: 0.6389\n",
            "Epoch 32/70\n",
            "5/5 [==============================] - 1s 208ms/step - loss: 0.3983 - accuracy: 0.7917 - val_loss: 0.8637 - val_accuracy: 0.7222\n",
            "Epoch 33/70\n",
            "5/5 [==============================] - 1s 206ms/step - loss: 0.4523 - accuracy: 0.8194 - val_loss: 0.8833 - val_accuracy: 0.7222\n",
            "Epoch 34/70\n",
            "5/5 [==============================] - 1s 170ms/step - loss: 0.4748 - accuracy: 0.7986 - val_loss: 0.8183 - val_accuracy: 0.7500\n",
            "Epoch 35/70\n",
            "5/5 [==============================] - 1s 211ms/step - loss: 0.3747 - accuracy: 0.8403 - val_loss: 0.9464 - val_accuracy: 0.6944\n",
            "Epoch 36/70\n",
            "5/5 [==============================] - 1s 177ms/step - loss: 0.5448 - accuracy: 0.7639 - val_loss: 0.7582 - val_accuracy: 0.6667\n",
            "Epoch 37/70\n",
            "5/5 [==============================] - 1s 223ms/step - loss: 0.4468 - accuracy: 0.7986 - val_loss: 0.7510 - val_accuracy: 0.6944\n",
            "Epoch 38/70\n",
            "5/5 [==============================] - 1s 175ms/step - loss: 0.4138 - accuracy: 0.8333 - val_loss: 0.7160 - val_accuracy: 0.6667\n",
            "Epoch 39/70\n",
            "5/5 [==============================] - 1s 171ms/step - loss: 0.4438 - accuracy: 0.8611 - val_loss: 0.7381 - val_accuracy: 0.7222\n",
            "Epoch 40/70\n",
            "5/5 [==============================] - 1s 212ms/step - loss: 0.4568 - accuracy: 0.7986 - val_loss: 0.8447 - val_accuracy: 0.6111\n",
            "Epoch 41/70\n",
            "5/5 [==============================] - 1s 182ms/step - loss: 0.5103 - accuracy: 0.7292 - val_loss: 0.8451 - val_accuracy: 0.6944\n",
            "Epoch 42/70\n",
            "5/5 [==============================] - 1s 190ms/step - loss: 0.4343 - accuracy: 0.7986 - val_loss: 0.7925 - val_accuracy: 0.6667\n",
            "Epoch 43/70\n",
            "5/5 [==============================] - 1s 185ms/step - loss: 0.4974 - accuracy: 0.7708 - val_loss: 0.8130 - val_accuracy: 0.5833\n",
            "Epoch 44/70\n",
            "5/5 [==============================] - 1s 208ms/step - loss: 0.4874 - accuracy: 0.7986 - val_loss: 0.8899 - val_accuracy: 0.7222\n",
            "Epoch 45/70\n",
            "5/5 [==============================] - 1s 172ms/step - loss: 0.4223 - accuracy: 0.8264 - val_loss: 0.8485 - val_accuracy: 0.6944\n",
            "Epoch 46/70\n",
            "5/5 [==============================] - 1s 171ms/step - loss: 0.5282 - accuracy: 0.8125 - val_loss: 0.8867 - val_accuracy: 0.6667\n",
            "Epoch 47/70\n",
            "5/5 [==============================] - 1s 178ms/step - loss: 0.5295 - accuracy: 0.7847 - val_loss: 0.9035 - val_accuracy: 0.6944\n",
            "Epoch 48/70\n",
            "5/5 [==============================] - 1s 174ms/step - loss: 0.5696 - accuracy: 0.7778 - val_loss: 0.9338 - val_accuracy: 0.5833\n",
            "Epoch 49/70\n",
            "5/5 [==============================] - 1s 173ms/step - loss: 0.5407 - accuracy: 0.8056 - val_loss: 0.9708 - val_accuracy: 0.6944\n",
            "Epoch 50/70\n",
            "5/5 [==============================] - 1s 172ms/step - loss: 0.4353 - accuracy: 0.8472 - val_loss: 0.8395 - val_accuracy: 0.7222\n",
            "Epoch 51/70\n",
            "5/5 [==============================] - 1s 204ms/step - loss: 0.3806 - accuracy: 0.8611 - val_loss: 0.8226 - val_accuracy: 0.6944\n",
            "Epoch 52/70\n",
            "5/5 [==============================] - 1s 208ms/step - loss: 0.4299 - accuracy: 0.8264 - val_loss: 1.1437 - val_accuracy: 0.7500\n",
            "Epoch 53/70\n",
            "5/5 [==============================] - 1s 174ms/step - loss: 0.5524 - accuracy: 0.8056 - val_loss: 0.7457 - val_accuracy: 0.6667\n",
            "Epoch 54/70\n",
            "5/5 [==============================] - 1s 172ms/step - loss: 0.4397 - accuracy: 0.7986 - val_loss: 0.7730 - val_accuracy: 0.7778\n",
            "Epoch 55/70\n",
            "5/5 [==============================] - 1s 172ms/step - loss: 0.4977 - accuracy: 0.7986 - val_loss: 0.7924 - val_accuracy: 0.7222\n",
            "Epoch 56/70\n",
            "5/5 [==============================] - 1s 175ms/step - loss: 0.3531 - accuracy: 0.8819 - val_loss: 0.6775 - val_accuracy: 0.7778\n",
            "Epoch 57/70\n",
            "5/5 [==============================] - 1s 208ms/step - loss: 0.4001 - accuracy: 0.8472 - val_loss: 0.6608 - val_accuracy: 0.7778\n",
            "Epoch 58/70\n",
            "5/5 [==============================] - 1s 166ms/step - loss: 0.5095 - accuracy: 0.7708 - val_loss: 0.7347 - val_accuracy: 0.7222\n",
            "Epoch 59/70\n",
            "5/5 [==============================] - 1s 207ms/step - loss: 0.4534 - accuracy: 0.8403 - val_loss: 0.6502 - val_accuracy: 0.7500\n",
            "Epoch 60/70\n",
            "5/5 [==============================] - 1s 169ms/step - loss: 0.4991 - accuracy: 0.8194 - val_loss: 0.8343 - val_accuracy: 0.6944\n",
            "Epoch 61/70\n",
            "5/5 [==============================] - 1s 172ms/step - loss: 0.3434 - accuracy: 0.8819 - val_loss: 0.9275 - val_accuracy: 0.7222\n",
            "Epoch 62/70\n",
            "5/5 [==============================] - 1s 170ms/step - loss: 0.3566 - accuracy: 0.8542 - val_loss: 0.6371 - val_accuracy: 0.6667\n",
            "Epoch 63/70\n",
            "5/5 [==============================] - 1s 219ms/step - loss: 0.3846 - accuracy: 0.8264 - val_loss: 0.8296 - val_accuracy: 0.6944\n",
            "Epoch 64/70\n",
            "5/5 [==============================] - 1s 187ms/step - loss: 0.3120 - accuracy: 0.8958 - val_loss: 0.7468 - val_accuracy: 0.7222\n",
            "Epoch 65/70\n",
            "5/5 [==============================] - 1s 223ms/step - loss: 0.4057 - accuracy: 0.8403 - val_loss: 0.6641 - val_accuracy: 0.7500\n",
            "Epoch 66/70\n",
            "5/5 [==============================] - 1s 201ms/step - loss: 0.4108 - accuracy: 0.7986 - val_loss: 1.0419 - val_accuracy: 0.6389\n",
            "Epoch 67/70\n",
            "5/5 [==============================] - 1s 173ms/step - loss: 0.3861 - accuracy: 0.8333 - val_loss: 0.6773 - val_accuracy: 0.6944\n",
            "Epoch 68/70\n",
            "5/5 [==============================] - 1s 179ms/step - loss: 0.4422 - accuracy: 0.8194 - val_loss: 0.8584 - val_accuracy: 0.6667\n",
            "Epoch 69/70\n",
            "5/5 [==============================] - 1s 172ms/step - loss: 0.3511 - accuracy: 0.8472 - val_loss: 0.9131 - val_accuracy: 0.6944\n",
            "Epoch 70/70\n",
            "5/5 [==============================] - 1s 171ms/step - loss: 0.4296 - accuracy: 0.8194 - val_loss: 0.7066 - val_accuracy: 0.7778\n"
          ]
        }
      ]
    },
    {
      "cell_type": "code",
      "metadata": {
        "colab": {
          "base_uri": "https://localhost:8080/"
        },
        "id": "qZSZLbGydY3l",
        "outputId": "efef094e-0eaf-4f8a-86a9-76ea71b2a462"
      },
      "source": [
        "y_pred=model.predict(testx)\n",
        "pred=np.argmax(y_pred,axis=1)\n",
        "ground = np.argmax(testy,axis=1)\n",
        "print(classification_report(ground,pred))"
      ],
      "execution_count": 169,
      "outputs": [
        {
          "output_type": "stream",
          "name": "stdout",
          "text": [
            "              precision    recall  f1-score   support\n",
            "\n",
            "           0       0.73      0.73      0.73        15\n",
            "           1       0.71      0.77      0.74        13\n",
            "           2       1.00      0.88      0.93         8\n",
            "\n",
            "    accuracy                           0.78        36\n",
            "   macro avg       0.82      0.79      0.80        36\n",
            "weighted avg       0.79      0.78      0.78        36\n",
            "\n"
          ]
        }
      ]
    },
    {
      "cell_type": "code",
      "metadata": {
        "colab": {
          "base_uri": "https://localhost:8080/",
          "height": 298
        },
        "id": "2RwCJps3lXGn",
        "outputId": "66666657-3b7b-4a00-b8b2-30bb6aef86ef"
      },
      "source": [
        "get_acc = his.history['accuracy']\n",
        "value_acc = his.history['val_accuracy']\n",
        "get_loss = his.history['loss']\n",
        "validation_loss = his.history['val_loss']\n",
        "\n",
        "epochs = range(len(get_acc))\n",
        "plt.plot(epochs, get_acc, 'r', label='Accuracy of Training data')\n",
        "plt.plot(epochs, value_acc, 'b', label='Accuracy of Validation data')\n",
        "plt.title('Training vs validation accuracy')\n",
        "plt.legend(loc=0)\n",
        "plt.figure()\n",
        "plt.show()"
      ],
      "execution_count": 170,
      "outputs": [
        {
          "output_type": "display_data",
          "data": {
            "image/png": "[encoded data removed]",
            "text/plain": [
              "<Figure size 432x288 with 1 Axes>"
            ]
          },
          "metadata": {
            "needs_background": "light"
          }
        },
        {
          "output_type": "display_data",
          "data": {
            "text/plain": [
              "<Figure size 432x288 with 0 Axes>"
            ]
          },
          "metadata": {}
        }
      ]
    },
    {
      "cell_type": "code",
      "metadata": {
        "colab": {
          "base_uri": "https://localhost:8080/",
          "height": 298
        },
        "id": "QHmDwrhildHN",
        "outputId": "173b06bf-72d9-4405-e08e-1326fb2f316f"
      },
      "source": [
        "epochs = range(len(get_loss))\n",
        "plt.plot(epochs, get_loss, 'r', label='Loss of Training data')\n",
        "plt.plot(epochs, validation_loss, 'b', label='Loss of Validation data')\n",
        "plt.title('Training vs validation loss')\n",
        "plt.legend(loc=0)\n",
        "plt.figure()\n",
        "plt.show()"
      ],
      "execution_count": 171,
      "outputs": [
        {
          "output_type": "display_data",
          "data": {
            "image/png": "[encoded data removed]",
            "text/plain": [
              "<Figure size 432x288 with 1 Axes>"
            ]
          },
          "metadata": {
            "needs_background": "light"
          }
        },
        {
          "output_type": "display_data",
          "data": {
            "text/plain": [
              "<Figure size 432x288 with 0 Axes>"
            ]
          },
          "metadata": {}
        }
      ]
    },
    {
      "cell_type": "code",
      "metadata": {
        "colab": {
          "base_uri": "https://localhost:8080/",
          "height": 117
        },
        "id": "HYJ3CBKslicu",
        "outputId": "9ec05e79-456a-41f7-e0f0-2afb3f4af87c"
      },
      "source": [
        "load_img(\"/content/drive/MyDrive/Rice disease archive/tungro/IMG_1028.jpg\",target_size=(100,100))"
      ],
      "execution_count": 172,
      "outputs": [
        {
          "output_type": "execute_result",
          "data": {
            "image/png": "[encoded data removed]",
            "text/plain": [
              "<PIL.Image.Image image mode=RGB size=100x100 at 0x7F0E94969650>"
            ]
          },
          "metadata": {},
          "execution_count": 172
        }
      ]
    },
    {
      "cell_type": "code",
      "metadata": {
        "id": "mWWAYFoOlmg4"
      },
      "source": [
        "image=load_img(\"/content/drive/MyDrive/Rice disease archive/tungro/IMG_1028.jpg\",target_size=(100,100))\n",
        "\n",
        "image=img_to_array(image) \n",
        "image=image/255.0\n",
        "prediction_image=np.array(image)\n",
        "prediction_image= np.expand_dims(image, axis=0)"
      ],
      "execution_count": 173,
      "outputs": []
    },
    {
      "cell_type": "code",
      "metadata": {
        "colab": {
          "base_uri": "https://localhost:8080/"
        },
        "id": "hn7N_4BMl3MU",
        "outputId": "e8bf1565-04ca-4d86-c1bf-bd17e120d25a"
      },
      "source": [
        "prediction=model.predict(prediction_image)\n",
        "value=np.argmax(prediction)\n",
        "move_name=mapper(value)\n",
        "#print(prediction)\n",
        "#print(value)\n",
        "print(\"Prediction is {}.\".format(move_name))"
      ],
      "execution_count": 174,
      "outputs": [
        {
          "output_type": "stream",
          "name": "stdout",
          "text": [
            "Prediction is tungro.\n"
          ]
        }
      ]
    },
    {
      "cell_type": "code",
      "metadata": {
        "colab": {
          "base_uri": "https://localhost:8080/"
        },
        "id": "1Wif4rFdmA8J",
        "outputId": "4eb4de78-0271-419d-b88c-5bc2eedc4361"
      },
      "source": [
        "print(test.shape)\n",
        "prediction2=model.predict(test)\n",
        "print(prediction2.shape)\n",
        "\n",
        "PRED=[]\n",
        "for item in prediction2:\n",
        "    value2=np.argmax(item)      \n",
        "    PRED+=[value2]"
      ],
      "execution_count": 175,
      "outputs": [
        {
          "output_type": "stream",
          "name": "stdout",
          "text": [
            "(60, 100, 100, 3)\n",
            "(60, 3)\n"
          ]
        }
      ]
    },
    {
      "cell_type": "code",
      "metadata": {
        "id": "KicY6SO_mHGx"
      },
      "source": [
        "ANS=tlabels0"
      ],
      "execution_count": 176,
      "outputs": []
    },
    {
      "cell_type": "code",
      "metadata": {
        "colab": {
          "base_uri": "https://localhost:8080/"
        },
        "id": "o_AqzW61mNx6",
        "outputId": "cf752e03-b7fe-42cd-9901-1aa241825f10"
      },
      "source": [
        "accuracy=accuracy_score(ANS,PRED)\n",
        "print(accuracy)"
      ],
      "execution_count": 177,
      "outputs": [
        {
          "output_type": "stream",
          "name": "stdout",
          "text": [
            "0.8166666666666667\n"
          ]
        }
      ]
    },
    {
      "cell_type": "code",
      "metadata": {
        "id": "jYAyh1zMmQVs"
      },
      "source": [
        ""
      ],
      "execution_count": 177,
      "outputs": []
    }
  ]
}
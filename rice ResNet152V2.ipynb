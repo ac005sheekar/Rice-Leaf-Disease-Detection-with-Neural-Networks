{
  "nbformat": 4,
  "nbformat_minor": 0,
  "metadata": {
    "colab": {
      "name": "rice.ipynb",
      "provenance": []
    },
    "kernelspec": {
      "name": "python3",
      "display_name": "Python 3"
    },
    "language_info": {
      "name": "python"
    },
    "accelerator": "GPU"
  },
  "cells": [
    {
      "cell_type": "code",
      "metadata": {
        "id": "zTQx7HTNT8sS"
      },
      "source": [
        "import numpy as np\n",
        "import pandas as pd\n",
        "import os\n",
        "import matplotlib.pyplot as plt\n",
        "import tensorflow as tf\n",
        "\n",
        "from tensorflow.keras.utils import to_categorical\n",
        "from tensorflow.keras.preprocessing.image import load_img, img_to_array\n",
        "from tensorflow.python.keras.preprocessing.image import ImageDataGenerator\n",
        "\n",
        "from sklearn.metrics import classification_report, log_loss, accuracy_score\n",
        "from sklearn.model_selection import train_test_split\n",
        "import tensorflow.keras.applications.resnet"
      ],
      "execution_count": 2,
      "outputs": []
    },
    {
      "cell_type": "code",
      "metadata": {
        "id": "gevtjrwdbd_g"
      },
      "source": [
        "directory = '/content/drive/MyDrive/Rice disease archive'"
      ],
      "execution_count": 3,
      "outputs": []
    },
    {
      "cell_type": "code",
      "metadata": {
        "colab": {
          "base_uri": "https://localhost:8080/"
        },
        "id": "1--U71Gbb2iR",
        "outputId": "7a40491f-0a68-4122-ab7d-c43848287edc"
      },
      "source": [
        "Name=[]\n",
        "for file in os.listdir(directory):\n",
        "    Name+=[file]\n",
        "print(Name)\n",
        "print(len(Name))"
      ],
      "execution_count": 4,
      "outputs": [
        {
          "output_type": "stream",
          "name": "stdout",
          "text": [
            "['blast', 'tungro', 'blight']\n",
            "3\n"
          ]
        }
      ]
    },
    {
      "cell_type": "code",
      "metadata": {
        "id": "F8XwAMvpcO6I"
      },
      "source": [
        "N=[]\n",
        "for i in range(len(Name)):\n",
        "    N+=[i]\n",
        "    \n",
        "normal_mapping=dict(zip(Name,N)) \n",
        "reverse_mapping=dict(zip(N,Name)) \n",
        "\n",
        "def mapper(value):\n",
        "    return reverse_mapping[value]"
      ],
      "execution_count": 5,
      "outputs": []
    },
    {
      "cell_type": "code",
      "metadata": {
        "id": "eyPlDXJ5cSMq"
      },
      "source": [
        "dataset=[]\n",
        "testset=[]\n",
        "count=0\n",
        "for name in Name:\n",
        "    path=os.path.join(directory,name)\n",
        "    t=0\n",
        "    for im in os.listdir(path):\n",
        "        if im[-4:]=='.jpg':\n",
        "            image=load_img(os.path.join(path,im), grayscale=False, color_mode='rgb', target_size=(100,100))\n",
        "            image=img_to_array(image)\n",
        "            image=image/255.0\n",
        "            if t<60:\n",
        "                dataset.append([image,count])\n",
        "            else:   \n",
        "                testset.append([image,count])\n",
        "            t+=1\n",
        "    count=count+1"
      ],
      "execution_count": 6,
      "outputs": []
    },
    {
      "cell_type": "code",
      "metadata": {
        "id": "Llo9capTcVti"
      },
      "source": [
        "data,labels0=zip(*dataset)\n",
        "test,tlabels0=zip(*testset)"
      ],
      "execution_count": 7,
      "outputs": []
    },
    {
      "cell_type": "code",
      "metadata": {
        "id": "PxDDBrHhciUF"
      },
      "source": [
        "labels1=to_categorical(labels0)\n",
        "data=np.array(data)\n",
        "labels=np.array(labels1)"
      ],
      "execution_count": 8,
      "outputs": []
    },
    {
      "cell_type": "code",
      "metadata": {
        "id": "QsHLqCZ-cnYm"
      },
      "source": [
        "tlabels1=to_categorical(tlabels0)\n",
        "test=np.array(test)\n",
        "tlabels=np.array(tlabels1)"
      ],
      "execution_count": 9,
      "outputs": []
    },
    {
      "cell_type": "code",
      "metadata": {
        "colab": {
          "base_uri": "https://localhost:8080/"
        },
        "id": "GwCLIdpRcp6N",
        "outputId": "adea216b-cc98-4798-dcc8-e4746b72318b"
      },
      "source": [
        "print(len(labels))\n",
        "print(len(tlabels))"
      ],
      "execution_count": 10,
      "outputs": [
        {
          "output_type": "stream",
          "name": "stdout",
          "text": [
            "180\n",
            "60\n"
          ]
        }
      ]
    },
    {
      "cell_type": "code",
      "metadata": {
        "id": "HYX95i06csAA"
      },
      "source": [
        "trainx,testx,trainy,testy=train_test_split(data,labels,test_size=0.2,random_state=44)"
      ],
      "execution_count": 11,
      "outputs": []
    },
    {
      "cell_type": "code",
      "metadata": {
        "colab": {
          "base_uri": "https://localhost:8080/"
        },
        "id": "9J77vA3Qcuzz",
        "outputId": "b960a4ed-f3f1-4709-aa6d-bbb175808538"
      },
      "source": [
        "print(trainx.shape)\n",
        "print(testx.shape)\n",
        "print(trainy.shape)\n",
        "print(testy.shape)"
      ],
      "execution_count": 12,
      "outputs": [
        {
          "output_type": "stream",
          "name": "stdout",
          "text": [
            "(144, 100, 100, 3)\n",
            "(36, 100, 100, 3)\n",
            "(144, 3)\n",
            "(36, 3)\n"
          ]
        }
      ]
    },
    {
      "cell_type": "code",
      "metadata": {
        "id": "pDMYSzaocxau"
      },
      "source": [
        "datagen = ImageDataGenerator(horizontal_flip=True,vertical_flip=True,rotation_range=20,zoom_range=0.2,\n",
        "                        width_shift_range=0.2,height_shift_range=0.2,shear_range=0.1,fill_mode=\"nearest\")"
      ],
      "execution_count": 13,
      "outputs": []
    },
    {
      "cell_type": "code",
      "metadata": {
        "colab": {
          "base_uri": "https://localhost:8080/"
        },
        "id": "cVU6qg8kc4p_",
        "outputId": "c3d15379-7545-4a32-98b6-6c886fb004c3"
      },
      "source": [
        "pretrained_model3 = tf.keras.applications.ResNet152V2(input_shape=(100,100,3),include_top=False,weights='imagenet',pooling='avg')\n",
        "pretrained_model3.trainable = False"
      ],
      "execution_count": 15,
      "outputs": [
        {
          "output_type": "stream",
          "name": "stdout",
          "text": [
            "Downloading data from https://storage.googleapis.com/tensorflow/keras-applications/resnet/resnet152v2_weights_tf_dim_ordering_tf_kernels_notop.h5\n",
            "234553344/234545216 [==============================] - 2s 0us/step\n",
            "234561536/234545216 [==============================] - 2s 0us/step\n"
          ]
        }
      ]
    },
    {
      "cell_type": "code",
      "metadata": {
        "id": "M6b8HMDjdEHP"
      },
      "source": [
        "inputs3 = pretrained_model3.input\n",
        "x3 = tf.keras.layers.Dense(128, activation='relu')(pretrained_model3.output)\n",
        "outputs3 = tf.keras.layers.Dense(3, activation='softmax')(x3)\n",
        "model = tf.keras.Model(inputs=inputs3, outputs=outputs3)"
      ],
      "execution_count": 16,
      "outputs": []
    },
    {
      "cell_type": "code",
      "metadata": {
        "id": "bwgEEf9FdQKL"
      },
      "source": [
        "model.compile(optimizer='adam',loss='categorical_crossentropy',metrics=['accuracy'])"
      ],
      "execution_count": 17,
      "outputs": []
    },
    {
      "cell_type": "code",
      "metadata": {
        "colab": {
          "base_uri": "https://localhost:8080/"
        },
        "id": "EO-mAYsHdSs5",
        "outputId": "35e0a0b8-d8dc-4364-f7c5-2c13a256fe9e"
      },
      "source": [
        "his=model.fit(datagen.flow(trainx,trainy,batch_size=32),validation_data=(testx,testy),epochs=40)"
      ],
      "execution_count": 18,
      "outputs": [
        {
          "output_type": "stream",
          "name": "stdout",
          "text": [
            "Epoch 1/40\n",
            "5/5 [==============================] - 45s 1s/step - loss: 1.2109 - accuracy: 0.3958 - val_loss: 1.1284 - val_accuracy: 0.5278\n",
            "Epoch 2/40\n",
            "5/5 [==============================] - 1s 241ms/step - loss: 0.9465 - accuracy: 0.5278 - val_loss: 1.4957 - val_accuracy: 0.5278\n",
            "Epoch 3/40\n",
            "5/5 [==============================] - 1s 222ms/step - loss: 0.7536 - accuracy: 0.6667 - val_loss: 1.0564 - val_accuracy: 0.5833\n",
            "Epoch 4/40\n",
            "5/5 [==============================] - 1s 227ms/step - loss: 0.6615 - accuracy: 0.7500 - val_loss: 1.0078 - val_accuracy: 0.7222\n",
            "Epoch 5/40\n",
            "5/5 [==============================] - 1s 224ms/step - loss: 0.5808 - accuracy: 0.7917 - val_loss: 1.1888 - val_accuracy: 0.5833\n",
            "Epoch 6/40\n",
            "5/5 [==============================] - 1s 226ms/step - loss: 0.6415 - accuracy: 0.7014 - val_loss: 1.1870 - val_accuracy: 0.6111\n",
            "Epoch 7/40\n",
            "5/5 [==============================] - 1s 241ms/step - loss: 0.5719 - accuracy: 0.7222 - val_loss: 1.0876 - val_accuracy: 0.6667\n",
            "Epoch 8/40\n",
            "5/5 [==============================] - 1s 228ms/step - loss: 0.5237 - accuracy: 0.7708 - val_loss: 1.1849 - val_accuracy: 0.6111\n",
            "Epoch 9/40\n",
            "5/5 [==============================] - 1s 227ms/step - loss: 0.6876 - accuracy: 0.7222 - val_loss: 1.1717 - val_accuracy: 0.6944\n",
            "Epoch 10/40\n",
            "5/5 [==============================] - 1s 224ms/step - loss: 0.6022 - accuracy: 0.7917 - val_loss: 1.0453 - val_accuracy: 0.6667\n",
            "Epoch 11/40\n",
            "5/5 [==============================] - 1s 226ms/step - loss: 0.4872 - accuracy: 0.7986 - val_loss: 0.9144 - val_accuracy: 0.7778\n",
            "Epoch 12/40\n",
            "5/5 [==============================] - 1s 229ms/step - loss: 0.5221 - accuracy: 0.8125 - val_loss: 0.8639 - val_accuracy: 0.7222\n",
            "Epoch 13/40\n",
            "5/5 [==============================] - 1s 240ms/step - loss: 0.5921 - accuracy: 0.7847 - val_loss: 0.7697 - val_accuracy: 0.7778\n",
            "Epoch 14/40\n",
            "5/5 [==============================] - 1s 226ms/step - loss: 0.5804 - accuracy: 0.7292 - val_loss: 1.0433 - val_accuracy: 0.6944\n",
            "Epoch 15/40\n",
            "5/5 [==============================] - 1s 238ms/step - loss: 0.5886 - accuracy: 0.7639 - val_loss: 0.8852 - val_accuracy: 0.6667\n",
            "Epoch 16/40\n",
            "5/5 [==============================] - 1s 242ms/step - loss: 0.4682 - accuracy: 0.8056 - val_loss: 0.8408 - val_accuracy: 0.6944\n",
            "Epoch 17/40\n",
            "5/5 [==============================] - 1s 238ms/step - loss: 0.4800 - accuracy: 0.8056 - val_loss: 0.8464 - val_accuracy: 0.6667\n",
            "Epoch 18/40\n",
            "5/5 [==============================] - 1s 256ms/step - loss: 0.4350 - accuracy: 0.8403 - val_loss: 0.7549 - val_accuracy: 0.7222\n",
            "Epoch 19/40\n",
            "5/5 [==============================] - 1s 224ms/step - loss: 0.5791 - accuracy: 0.7639 - val_loss: 0.7301 - val_accuracy: 0.8056\n",
            "Epoch 20/40\n",
            "5/5 [==============================] - 1s 228ms/step - loss: 0.4081 - accuracy: 0.8264 - val_loss: 0.7338 - val_accuracy: 0.7500\n",
            "Epoch 21/40\n",
            "5/5 [==============================] - 1s 241ms/step - loss: 0.4099 - accuracy: 0.8542 - val_loss: 0.7128 - val_accuracy: 0.7778\n",
            "Epoch 22/40\n",
            "5/5 [==============================] - 1s 224ms/step - loss: 0.4031 - accuracy: 0.8056 - val_loss: 0.8651 - val_accuracy: 0.6944\n",
            "Epoch 23/40\n",
            "5/5 [==============================] - 1s 225ms/step - loss: 0.4087 - accuracy: 0.8472 - val_loss: 0.8401 - val_accuracy: 0.6667\n",
            "Epoch 24/40\n",
            "5/5 [==============================] - 1s 225ms/step - loss: 0.4770 - accuracy: 0.8194 - val_loss: 0.7581 - val_accuracy: 0.6667\n",
            "Epoch 25/40\n",
            "5/5 [==============================] - 1s 225ms/step - loss: 0.4499 - accuracy: 0.8056 - val_loss: 0.7491 - val_accuracy: 0.7222\n",
            "Epoch 26/40\n",
            "5/5 [==============================] - 1s 228ms/step - loss: 0.4621 - accuracy: 0.7986 - val_loss: 0.9146 - val_accuracy: 0.6389\n",
            "Epoch 27/40\n",
            "5/5 [==============================] - 1s 226ms/step - loss: 0.4852 - accuracy: 0.8056 - val_loss: 0.7694 - val_accuracy: 0.6944\n",
            "Epoch 28/40\n",
            "5/5 [==============================] - 1s 226ms/step - loss: 0.4545 - accuracy: 0.7986 - val_loss: 0.8044 - val_accuracy: 0.7222\n",
            "Epoch 29/40\n",
            "5/5 [==============================] - 1s 243ms/step - loss: 0.3548 - accuracy: 0.8611 - val_loss: 0.7583 - val_accuracy: 0.6944\n",
            "Epoch 30/40\n",
            "5/5 [==============================] - 1s 240ms/step - loss: 0.3941 - accuracy: 0.8681 - val_loss: 0.7349 - val_accuracy: 0.6944\n",
            "Epoch 31/40\n",
            "5/5 [==============================] - 1s 226ms/step - loss: 0.4336 - accuracy: 0.8472 - val_loss: 0.7589 - val_accuracy: 0.7222\n",
            "Epoch 32/40\n",
            "5/5 [==============================] - 1s 226ms/step - loss: 0.2861 - accuracy: 0.8889 - val_loss: 0.8049 - val_accuracy: 0.7222\n",
            "Epoch 33/40\n",
            "5/5 [==============================] - 1s 229ms/step - loss: 0.3460 - accuracy: 0.8819 - val_loss: 0.8338 - val_accuracy: 0.7222\n",
            "Epoch 34/40\n",
            "5/5 [==============================] - 1s 221ms/step - loss: 0.4631 - accuracy: 0.8056 - val_loss: 0.7958 - val_accuracy: 0.7222\n",
            "Epoch 35/40\n",
            "5/5 [==============================] - 1s 225ms/step - loss: 0.4150 - accuracy: 0.8333 - val_loss: 0.7691 - val_accuracy: 0.7222\n",
            "Epoch 36/40\n",
            "5/5 [==============================] - 1s 242ms/step - loss: 0.3077 - accuracy: 0.8958 - val_loss: 0.7026 - val_accuracy: 0.8056\n",
            "Epoch 37/40\n",
            "5/5 [==============================] - 1s 227ms/step - loss: 0.4214 - accuracy: 0.8056 - val_loss: 0.7459 - val_accuracy: 0.8056\n",
            "Epoch 38/40\n",
            "5/5 [==============================] - 1s 222ms/step - loss: 0.4261 - accuracy: 0.8472 - val_loss: 0.8234 - val_accuracy: 0.6667\n",
            "Epoch 39/40\n",
            "5/5 [==============================] - 1s 242ms/step - loss: 0.4263 - accuracy: 0.8264 - val_loss: 0.6945 - val_accuracy: 0.8056\n",
            "Epoch 40/40\n",
            "5/5 [==============================] - 1s 242ms/step - loss: 0.3896 - accuracy: 0.8403 - val_loss: 0.8079 - val_accuracy: 0.8056\n"
          ]
        }
      ]
    },
    {
      "cell_type": "code",
      "metadata": {
        "colab": {
          "base_uri": "https://localhost:8080/"
        },
        "id": "qZSZLbGydY3l",
        "outputId": "e900fd4b-7e67-446b-96e2-e5928589128f"
      },
      "source": [
        "y_pred=model.predict(testx)\n",
        "pred=np.argmax(y_pred,axis=1)\n",
        "ground = np.argmax(testy,axis=1)\n",
        "print(classification_report(ground,pred))"
      ],
      "execution_count": 19,
      "outputs": [
        {
          "output_type": "stream",
          "name": "stdout",
          "text": [
            "              precision    recall  f1-score   support\n",
            "\n",
            "           0       0.81      0.87      0.84        15\n",
            "           1       0.71      0.77      0.74        13\n",
            "           2       1.00      0.75      0.86         8\n",
            "\n",
            "    accuracy                           0.81        36\n",
            "   macro avg       0.84      0.80      0.81        36\n",
            "weighted avg       0.82      0.81      0.81        36\n",
            "\n"
          ]
        }
      ]
    },
    {
      "cell_type": "code",
      "metadata": {
        "colab": {
          "base_uri": "https://localhost:8080/",
          "height": 298
        },
        "id": "2RwCJps3lXGn",
        "outputId": "c4cb0408-b37e-444e-d6a2-f9fce0689791"
      },
      "source": [
        "get_acc = his.history['accuracy']\n",
        "value_acc = his.history['val_accuracy']\n",
        "get_loss = his.history['loss']\n",
        "validation_loss = his.history['val_loss']\n",
        "\n",
        "epochs = range(len(get_acc))\n",
        "plt.plot(epochs, get_acc, 'r', label='Accuracy of Training data')\n",
        "plt.plot(epochs, value_acc, 'b', label='Accuracy of Validation data')\n",
        "plt.title('Training vs validation accuracy')\n",
        "plt.legend(loc=0)\n",
        "plt.figure()\n",
        "plt.show()"
      ],
      "execution_count": 20,
      "outputs": [
        {
          "output_type": "display_data",
          "data": {
            "image/png": "[encoded data removed]",
            "text/plain": [
              "<Figure size 432x288 with 1 Axes>"
            ]
          },
          "metadata": {
            "needs_background": "light"
          }
        },
        {
          "output_type": "display_data",
          "data": {
            "text/plain": [
              "<Figure size 432x288 with 0 Axes>"
            ]
          },
          "metadata": {}
        }
      ]
    },
    {
      "cell_type": "code",
      "metadata": {
        "colab": {
          "base_uri": "https://localhost:8080/",
          "height": 298
        },
        "id": "QHmDwrhildHN",
        "outputId": "b87cd88c-6826-4046-900d-dee244211628"
      },
      "source": [
        "epochs = range(len(get_loss))\n",
        "plt.plot(epochs, get_loss, 'r', label='Loss of Training data')\n",
        "plt.plot(epochs, validation_loss, 'b', label='Loss of Validation data')\n",
        "plt.title('Training vs validation loss')\n",
        "plt.legend(loc=0)\n",
        "plt.figure()\n",
        "plt.show()"
      ],
      "execution_count": 21,
      "outputs": [
        {
          "output_type": "display_data",
          "data": {
            "image/png": "[encoded data removed]",
            "text/plain": [
              "<Figure size 432x288 with 1 Axes>"
            ]
          },
          "metadata": {
            "needs_background": "light"
          }
        },
        {
          "output_type": "display_data",
          "data": {
            "text/plain": [
              "<Figure size 432x288 with 0 Axes>"
            ]
          },
          "metadata": {}
        }
      ]
    },
    {
      "cell_type": "code",
      "metadata": {
        "colab": {
          "base_uri": "https://localhost:8080/",
          "height": 117
        },
        "id": "HYJ3CBKslicu",
        "outputId": "67532f40-1939-459a-cd39-7b4171c035d9"
      },
      "source": [
        "load_img(\"/content/drive/MyDrive/Rice disease archive/tungro/IMG_1028.jpg\",target_size=(100,100))"
      ],
      "execution_count": 22,
      "outputs": [
        {
          "output_type": "execute_result",
          "data": {
            "image/png": "[encoded data removed]",
            "text/plain": [
              "<PIL.Image.Image image mode=RGB size=100x100 at 0x7F0F0438B710>"
            ]
          },
          "metadata": {},
          "execution_count": 22
        }
      ]
    },
    {
      "cell_type": "code",
      "metadata": {
        "id": "mWWAYFoOlmg4"
      },
      "source": [
        "image=load_img(\"/content/drive/MyDrive/Rice disease archive/tungro/IMG_1028.jpg\",target_size=(100,100))\n",
        "\n",
        "image=img_to_array(image) \n",
        "image=image/255.0\n",
        "prediction_image=np.array(image)\n",
        "prediction_image= np.expand_dims(image, axis=0)"
      ],
      "execution_count": 23,
      "outputs": []
    },
    {
      "cell_type": "code",
      "metadata": {
        "colab": {
          "base_uri": "https://localhost:8080/"
        },
        "id": "hn7N_4BMl3MU",
        "outputId": "e69e0fe9-090b-47f2-f060-ceb55c617bee"
      },
      "source": [
        "prediction=model.predict(prediction_image)\n",
        "value=np.argmax(prediction)\n",
        "move_name=mapper(value)\n",
        "#print(prediction)\n",
        "#print(value)\n",
        "print(\"Prediction is {}.\".format(move_name))"
      ],
      "execution_count": 24,
      "outputs": [
        {
          "output_type": "stream",
          "name": "stdout",
          "text": [
            "Prediction is tungro.\n"
          ]
        }
      ]
    },
    {
      "cell_type": "code",
      "metadata": {
        "colab": {
          "base_uri": "https://localhost:8080/"
        },
        "id": "1Wif4rFdmA8J",
        "outputId": "6a271cd0-bebc-474b-edbd-aa20bf737140"
      },
      "source": [
        "print(test.shape)\n",
        "prediction2=model.predict(test)\n",
        "print(prediction2.shape)\n",
        "\n",
        "PRED=[]\n",
        "for item in prediction2:\n",
        "    value2=np.argmax(item)      \n",
        "    PRED+=[value2]"
      ],
      "execution_count": 25,
      "outputs": [
        {
          "output_type": "stream",
          "name": "stdout",
          "text": [
            "(60, 100, 100, 3)\n",
            "(60, 3)\n"
          ]
        }
      ]
    },
    {
      "cell_type": "code",
      "metadata": {
        "id": "KicY6SO_mHGx"
      },
      "source": [
        "ANS=tlabels0"
      ],
      "execution_count": 26,
      "outputs": []
    },
    {
      "cell_type": "code",
      "metadata": {
        "colab": {
          "base_uri": "https://localhost:8080/"
        },
        "id": "o_AqzW61mNx6",
        "outputId": "8be50a9e-972a-4889-c440-c30ad302fd18"
      },
      "source": [
        "accuracy=accuracy_score(ANS,PRED)\n",
        "print(accuracy)"
      ],
      "execution_count": 27,
      "outputs": [
        {
          "output_type": "stream",
          "name": "stdout",
          "text": [
            "0.7833333333333333\n"
          ]
        }
      ]
    },
    {
      "cell_type": "code",
      "metadata": {
        "id": "jYAyh1zMmQVs"
      },
      "source": [
        ""
      ],
      "execution_count": null,
      "outputs": []
    }
  ]
}